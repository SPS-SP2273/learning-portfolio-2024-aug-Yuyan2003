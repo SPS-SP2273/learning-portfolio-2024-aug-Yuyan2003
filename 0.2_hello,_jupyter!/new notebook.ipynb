{
 "cells": [
  {
   "cell_type": "code",
   "execution_count": 3,
   "id": "597a8349-3755-4ca6-9629-7a612401ddec",
   "metadata": {},
   "outputs": [
    {
     "name": "stdout",
     "output_type": "stream",
     "text": [
      "Hello world!\n"
     ]
    }
   ],
   "source": [
    "\n",
    "print('Hello world!')\n",
    "#real_names = [\"Natasha Romanoff\", \"Tony Stark\", \"Stephen Strange\"]\n",
    "\n",
    "#for name in real_names:\n",
    "#    print(f\"{name} is a Marvel superhero!\")"
   ]
  },
  {
   "cell_type": "code",
   "execution_count": 2,
   "id": "775563af-22ff-4e31-9017-3c9ed6be43d2",
   "metadata": {},
   "outputs": [],
   "source": [
    "import numpy as np"
   ]
  },
  {
   "cell_type": "code",
   "execution_count": 9,
   "id": "d266e358-6422-4674-978b-3a40d3dad204",
   "metadata": {},
   "outputs": [
    {
     "ename": "TypeError",
     "evalue": "unsupported operand type(s) for +: 'int' and 'str'",
     "output_type": "error",
     "traceback": [
      "\u001b[1;31m---------------------------------------------------------------------------\u001b[0m",
      "\u001b[1;31mTypeError\u001b[0m                                 Traceback (most recent call last)",
      "Cell \u001b[1;32mIn[9], line 5\u001b[0m\n\u001b[0;32m      2\u001b[0m np_array \u001b[38;5;241m=\u001b[39m np\u001b[38;5;241m.\u001b[39marray(py_list)    \n\u001b[0;32m      4\u001b[0m py_list\u001b[38;5;241m*\u001b[39m\u001b[38;5;241m2\u001b[39m\n\u001b[1;32m----> 5\u001b[0m \u001b[38;5;28;43msum\u001b[39;49m\u001b[43m(\u001b[49m\u001b[43mpy_list\u001b[49m\u001b[43m)\u001b[49m\n",
      "\u001b[1;31mTypeError\u001b[0m: unsupported operand type(s) for +: 'int' and 'str'"
     ]
    }
   ],
   "source": [
    "py_list = [1, 2, 3, \"test\", 5]\n",
    "np_array = np.array(py_list)    \n",
    "\n",
    "py_list*2\n",
    "#sum(py_list)\n"
   ]
  },
  {
   "cell_type": "code",
   "execution_count": 22,
   "id": "5beaefd3-ca44-4093-aa89-5053547b26bd",
   "metadata": {},
   "outputs": [
    {
     "name": "stdout",
     "output_type": "stream",
     "text": [
      "0: Natasha Romanoff is a Marvel superhero!\n",
      "1: Tony Stark is a Marvel superhero!\n",
      "2: Stephen Strange is a Marvel superhero!\n",
      "3: hi is a Marvel superhero!\n"
     ]
    }
   ],
   "source": [
    "real_names = [\"Natasha Romanoff\", \"Tony Stark\", \"Stephen Strange\", \"hi\"]\n",
    "\n",
    "\n",
    "for count, name in enumerate(real_names):\n",
    "    print(f'{count}: {name} is a Marvel superhero!')"
   ]
  },
  {
   "cell_type": "code",
   "execution_count": 20,
   "id": "619d7840-c036-4015-a2d2-d5d4e44f9bd1",
   "metadata": {},
   "outputs": [
    {
     "name": "stdout",
     "output_type": "stream",
     "text": [
      "Natasha Romanoff: 0 is a Marvel superhero!\n",
      "Tony Stark: 1 is a Marvel superhero!\n",
      "Stephen Strange: 2 is a Marvel superhero!\n"
     ]
    }
   ],
   "source": [
    "for test, naxxme in enumerate(real_names):\n",
    "    print(f'{naxxme}: {test} is a Marvel superhero!')"
   ]
  },
  {
   "cell_type": "code",
   "execution_count": 23,
   "id": "ea9d77f5-ad60-485e-840c-2b66432e199a",
   "metadata": {},
   "outputs": [
    {
     "data": {
      "text/plain": [
       "4"
      ]
     },
     "execution_count": 23,
     "metadata": {},
     "output_type": "execute_result"
    }
   ],
   "source": [
    "len(real_names)"
   ]
  },
  {
   "cell_type": "code",
   "execution_count": 45,
   "id": "984e4ab8-b055-4c0f-b87a-a1d970715695",
   "metadata": {},
   "outputs": [
    {
     "name": "stdout",
     "output_type": "stream",
     "text": [
      "1: [1 2 3 4 5]\t\n",
      "\n",
      "2: [ 2  4  6  8 10]\t\n",
      "\n",
      "3: [ 3  6  9 12 15]\t\n",
      "\n",
      "4: [ 4  8 12 16 20]\t\n",
      "\n",
      "5: [ 5 10 15 20 25]\t\n",
      "\n"
     ]
    }
   ],
   "source": [
    "import numpy as np\n",
    "\n",
    "list1 = [1, 2, 3, 4, 5]\n",
    "list2 = [1, 2, 3, 4, 5]\n",
    "\n",
    "array1 = np.array([1, 2, 3, 4, 5])\n",
    "array2 = np.array([1, 2, 3, 4, 5])\n",
    "\n",
    "for number in array1:\n",
    "    result = array1[number-1]*array2\n",
    "    print(f'{number}: {result}', end='\\t')\n",
    "    print('\\n')\n"
   ]
  },
  {
   "cell_type": "code",
   "execution_count": 63,
   "id": "ee0b7373-7ad2-4bf7-a849-0316d301174e",
   "metadata": {},
   "outputs": [
    {
     "name": "stdout",
     "output_type": "stream",
     "text": [
      "1:  1  2  3  4  5  \n",
      "\n",
      "2:  2  4  6  8  10  \n",
      "\n",
      "3:  3  6  9  12  15  \n",
      "\n",
      "4:  4  8  12  16  20  \n",
      "\n",
      "5:  5  10  15  20  25  \n",
      "\n"
     ]
    }
   ],
   "source": [
    "for number in [1, 2, 3, 4, 5]:\n",
    "    print(number, end=':  ')\n",
    "    for number_2 in [1, 2, 3, 4, 5]:\n",
    "        print(f'{number*number_2}', end='  ')\n",
    "    print('\\n')"
   ]
  },
  {
   "cell_type": "code",
   "execution_count": 12,
   "id": "d1a3c59f-e5e1-451a-8c0a-8c3917269ee9",
   "metadata": {},
   "outputs": [
    {
     "name": "stdout",
     "output_type": "stream",
     "text": [
      "experiment: 1 number of heads = 5\n",
      "experiment: 2 number of heads = 7\n",
      "experiment: 3 number of heads = 4\n",
      "experiment: 4 number of heads = 7\n",
      "experiment: 5 number of heads = 5\n",
      "experiment: 6 number of heads = 6\n",
      "experiment: 7 number of heads = 3\n",
      "experiment: 8 number of heads = 7\n",
      "experiment: 9 number of heads = 6\n",
      "experiment: 10 number of heads = 3\n"
     ]
    }
   ],
   "source": [
    "import numpy as np\n",
    "\n",
    "for i in range(10):\n",
    "    flips = np.random.rand(10)\n",
    "    count = 0\n",
    "    #print(flips)\n",
    "    for n in flips:\n",
    "        if n > 0.5:\n",
    "            count += 1\n",
    "    \n",
    "        if n < 0.5:\n",
    "            continue\n",
    "\n",
    "    print(f'experiment: {i+1} number of heads = {count}')"
   ]
  },
  {
   "cell_type": "code",
   "execution_count": 13,
   "id": "74d2da0a-c012-4c2a-80d1-744e726fc785",
   "metadata": {},
   "outputs": [
    {
     "name": "stdout",
     "output_type": "stream",
     "text": [
      "Natasha Romanoff is Marvel's Black Widow!\n",
      "Tony Stark is Marvel's Iron Man!\n",
      "Stephen Strange is Marvel's Doctor Strange!\n"
     ]
    }
   ],
   "source": [
    "py_superhero_info = [['Natasha Romanoff', 'Black Widow'],\n",
    "                     ['Tony Stark', 'Iron Man'],\n",
    "                     ['Stephen Strange', 'Doctor Strange']]\n",
    "\n",
    "for real_name, super_name in py_superhero_info:\n",
    "    print(f\"{real_name} is Marvel's {super_name}!\")"
   ]
  },
  {
   "cell_type": "code",
   "execution_count": 22,
   "id": "70540edd-7e41-464d-a861-88b41dc2efa0",
   "metadata": {},
   "outputs": [
    {
     "name": "stdout",
     "output_type": "stream",
     "text": [
      "0°C is 32.0°F\n",
      "5°C is 41.0°F\n",
      "10°C is 50.0°F\n",
      "15°C is 59.0°F\n",
      "20°C is 68.0°F\n",
      "25°C is 77.0°F\n",
      "30°C is 86.0°F\n",
      "35°C is 95.0°F\n",
      "40°C is 104.0°F\n",
      "45°C is 113.0°F\n",
      "50°C is 122.0°F\n"
     ]
    }
   ],
   "source": [
    "temperatures_celsius = [\n",
    "    0, 5, 10, 15, 20, 25,\n",
    "    30, 35, 40, 45, 50\n",
    "]\n",
    "for temp in temperatures_celsius:\n",
    "    temperatures_farenheit = temp * 1.8 +32\n",
    "    print(f\"{temp}\\N{degree sign}C is {temperatures_farenheit}\\N{degree sign}F\")\n"
   ]
  },
  {
   "cell_type": "code",
   "execution_count": 38,
   "id": "100c9d9d-8a49-48b3-9012-2caf01a2dd90",
   "metadata": {},
   "outputs": [
    {
     "name": "stdout",
     "output_type": "stream",
     "text": [
      "2.55 µs ± 38.5 ns per loop (mean ± std. dev. of 7 runs, 100,000 loops each)\n"
     ]
    }
   ],
   "source": [
    "%%timeit\n",
    "\n",
    "for number in range(10):\n",
    "    if number % 2 == 0:\n",
    "        continue\n",
    "    else:\n",
    "        number**2"
   ]
  },
  {
   "cell_type": "code",
   "execution_count": 39,
   "id": "111160bf-13b3-4085-980d-6d3e81fd00d0",
   "metadata": {},
   "outputs": [
    {
     "name": "stdout",
     "output_type": "stream",
     "text": [
      "2.78 µs ± 41.4 ns per loop (mean ± std. dev. of 7 runs, 100,000 loops each)\n"
     ]
    }
   ],
   "source": [
    "%%timeit\n",
    "\n",
    "[number**2 for number in range(10) if number % 2 != 0]"
   ]
  },
  {
   "cell_type": "code",
   "execution_count": 47,
   "id": "0990b104-e9f4-42ce-970d-1191b1484522",
   "metadata": {},
   "outputs": [
    {
     "name": "stdout",
     "output_type": "stream",
     "text": [
      "no. of years: 1, amount of sample left:95.00units\n",
      "no. of years: 2, amount of sample left:90.25units\n",
      "no. of years: 3, amount of sample left:85.74units\n",
      "no. of years: 4, amount of sample left:81.45units\n",
      "no. of years: 5, amount of sample left:77.38units\n",
      "no. of years: 6, amount of sample left:73.51units\n",
      "no. of years: 7, amount of sample left:69.83units\n",
      "no. of years: 8, amount of sample left:66.34units\n",
      "no. of years: 9, amount of sample left:63.02units\n",
      "no. of years: 10, amount of sample left:59.87units\n",
      "no. of years: 11, amount of sample left:56.88units\n",
      "no. of years: 12, amount of sample left:54.04units\n",
      "no. of years: 13, amount of sample left:51.33units\n",
      "no. of years: 14, amount of sample left:48.77units\n",
      "it will take 14 years.\n"
     ]
    }
   ],
   "source": [
    "n = 100\n",
    "count = 0\n",
    "while n > 50:\n",
    "    n *= 0.95\n",
    "    count += 1\n",
    "    print(f\"no. of years: {count}, amount of sample left:{n:.2f}units\")\n",
    "\n",
    "print(\"it will take 14 years.\")"
   ]
  },
  {
   "cell_type": "code",
   "execution_count": 99,
   "id": "5f9cac80-f216-4930-ae61-6652bcc6bf40",
   "metadata": {},
   "outputs": [
    {
     "name": "stdout",
     "output_type": "stream",
     "text": [
      "2015, 3.41\n"
     ]
    }
   ],
   "source": [
    "co2_data = [\n",
    "    (2000, 369.55), (2001, 371.14), (2002, 373.28), \n",
    "    (2003, 375.80), (2004, 377.52), (2005, 379.80), \n",
    "    (2006, 381.90), (2007, 383.79), (2008, 385.60), \n",
    "    (2009, 387.43), (2010, 389.90), (2011, 391.65), \n",
    "    (2012, 393.85), (2013, 396.52), (2014, 398.65),\n",
    "    (2015, 400.83), (2016, 404.24), (2017, 406.55), \n",
    "    (2018, 408.52), (2019, 411.44), (2020, 414.24)\n",
    "]\n",
    "\n",
    "np_co2_data = np.array(co2_data)\n",
    "\n",
    "for i in range(len(np_co2_data)-1):\n",
    "    diff = np_co2_data[i+1, 1] - np_co2_data[i, 1]\n",
    "    year = np_co2_data[i, 0]\n",
    "    if diff > 3:\n",
    "        print(f\"{year:.0f}, {diff:.2f}\")"
   ]
  },
  {
   "cell_type": "code",
   "execution_count": 1,
   "id": "8e960a11-c31c-43c3-9c9f-f3ab6d0bc9ad",
   "metadata": {},
   "outputs": [
    {
     "name": "stdin",
     "output_type": "stream",
     "text": [
      "please key in a factorial number 10\n"
     ]
    },
    {
     "name": "stdout",
     "output_type": "stream",
     "text": [
      "3628800\n"
     ]
    }
   ],
   "source": [
    "def factorial(n):\n",
    "    if n < 0:\n",
    "        print(\"error\")\n",
    "    if n == 0:\n",
    "        return 1\n",
    "    if n > 0:\n",
    "        y=1\n",
    "        while n >0:\n",
    "            y *= n\n",
    "            n -= 1\n",
    "        return y\n",
    "\n",
    "#print(factorial(10))\n",
    "\n",
    "n = int(input(\"please key in a factorial number\"))\n",
    "print(factorial(n))\n",
    "\n",
    "#result = factorial(user_input)\n",
    "\n",
    "#print(result)"
   ]
  },
  {
   "cell_type": "code",
   "execution_count": 1,
   "id": "9342552b-f2c7-4a78-ad41-29429f17210a",
   "metadata": {},
   "outputs": [
    {
     "name": "stdout",
     "output_type": "stream",
     "text": [
      "error\n",
      "-1\n"
     ]
    }
   ],
   "source": [
    "def factorial(n):\n",
    "    if n < 0:\n",
    "        print(\"error\")\n",
    "    else: \n",
    "        n=n+10\n",
    "    return n\n",
    "        \n",
    "#user_input = input('Please provide me with a number?')\n",
    "#print('You entered', user_input)\n",
    "\n",
    "#result = factorial(user_input)\n",
    "#print(result)\n",
    "\n",
    "result = factorial(-1)\n",
    "print(result)"
   ]
  },
  {
   "cell_type": "code",
   "execution_count": null,
   "id": "8e9e12b1-3f1c-4975-8888-d3364a470dc1",
   "metadata": {},
   "outputs": [],
   "source": []
  }
 ],
 "metadata": {
  "kernelspec": {
   "display_name": "Python 3 (ipykernel)",
   "language": "python",
   "name": "python3"
  },
  "language_info": {
   "codemirror_mode": {
    "name": "ipython",
    "version": 3
   },
   "file_extension": ".py",
   "mimetype": "text/x-python",
   "name": "python",
   "nbconvert_exporter": "python",
   "pygments_lexer": "ipython3",
   "version": "3.9.19"
  }
 },
 "nbformat": 4,
 "nbformat_minor": 5
}
