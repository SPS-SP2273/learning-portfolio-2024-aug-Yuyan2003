{
 "cells": [
  {
   "attachments": {},
   "cell_type": "markdown",
   "id": "123456",
   "metadata": {},
   "source": [
    "<div style=\"text-align:left;font-size:2em\"><span style=\"font-weight:bolder;font-size:1.25em\">SP2273 | Learning Portfolio</span><br><br><span style=\"font-weight:bold;color:darkred\">Functions (Need)</span></div>"
   ]
  },
  {
   "attachments": {},
   "cell_type": "markdown",
   "id": "3b4e9eac",
   "metadata": {},
   "source": [
    "# What to expect in this chapter"
   ]
  },
  {
   "attachments": {},
   "cell_type": "markdown",
   "id": "cad7e6e1",
   "metadata": {},
   "source": [
    "# 1 User-defined functions"
   ]
  },
  {
   "attachments": {},
   "cell_type": "markdown",
   "id": "d14ab50c",
   "metadata": {},
   "source": [
    "## 1.1 Named Functions"
   ]
  },
  {
   "cell_type": "code",
   "execution_count": 1,
   "id": "64848234-a38b-4d87-af68-1e569f3b2224",
   "metadata": {},
   "outputs": [
    {
     "name": "stdout",
     "output_type": "stream",
     "text": [
      "hahahahaha\n"
     ]
    }
   ],
   "source": [
    "x=print('hahahahaha') #print does not throw out a value which you can use later."
   ]
  },
  {
   "cell_type": "code",
   "execution_count": 4,
   "id": "51aed118-6fe4-439b-be93-ef165a959e47",
   "metadata": {},
   "outputs": [],
   "source": [
    "y=sum([1, 2]) #the sum functon is a returning function. it edits your input and throws something out."
   ]
  },
  {
   "cell_type": "code",
   "execution_count": 3,
   "id": "f9eb8633-8744-40de-9860-b0c2a7db97fb",
   "metadata": {},
   "outputs": [
    {
     "name": "stdout",
     "output_type": "stream",
     "text": [
      "x=None,y=3\n"
     ]
    }
   ],
   "source": [
    "print(f'{x=},{y=}')"
   ]
  },
  {
   "attachments": {},
   "cell_type": "markdown",
   "id": "6641a92b",
   "metadata": {},
   "source": [
    "### Named functions that return"
   ]
  },
  {
   "cell_type": "code",
   "execution_count": 6,
   "id": "000b18a2-0851-493b-a26e-fe828a173cba",
   "metadata": {},
   "outputs": [],
   "source": [
    "import numpy as np"
   ]
  },
  {
   "cell_type": "code",
   "execution_count": 6,
   "id": "fb85ab20",
   "metadata": {},
   "outputs": [
    {
     "data": {
      "text/plain": [
       "'Hello Super Man!'"
      ]
     },
     "execution_count": 6,
     "metadata": {},
     "output_type": "execute_result"
    }
   ],
   "source": [
    "def greeting(name, sidekick):\n",
    "    if name == 'Batman':\n",
    "        return 'Hello Batman! So, nice to meet you!'\n",
    "    else:\n",
    "        return f'Hello {name}!'\n",
    "\n",
    "greeting(\"Super Man\", \"Robin\") #if your defined function has 2 arguments, you will need to input 2 words here\n",
    "greeting(name=\"Super Man\", sidekick=\"Robin\") #specifying whch text belongs to which argument is the preferred format to write because it is clearer and easier to read/understand"
   ]
  },
  {
   "cell_type": "code",
   "execution_count": 17,
   "id": "7a97863e-b662-433f-8f03-5b72f714d38b",
   "metadata": {},
   "outputs": [
    {
     "name": "stdout",
     "output_type": "stream",
     "text": [
      "Hello Super Man!\n"
     ]
    }
   ],
   "source": [
    "greet=greeting(name='Super Man', sidekick='Robin')\n",
    "print(greet)"
   ]
  },
  {
   "cell_type": "code",
   "execution_count": 24,
   "id": "baafa55c-c289-4df6-8497-2929c991f7a0",
   "metadata": {},
   "outputs": [],
   "source": [
    "def basic_stats(numbers):\n",
    "    np_numbers = np.array(numbers) #you can define a function but not run it. the code will still work. the issue comes when you use it (did not define numpy) \n",
    "    my_min = np_numbers.min()\n",
    "    my_max = np_numbers.max()\n",
    "    my_mean = np_numbers.mean()\n",
    "    return my_min, my_max, my_mean #by default, output is a tuple\n",
    "    return [my_min, my_max, my_mean] #output as a list\n",
    "    return np.array([my_min, my_max, my_mean]) #output as an array"
   ]
  },
  {
   "cell_type": "code",
   "execution_count": 25,
   "id": "e29827ba-07f6-4122-92cf-35f523c36810",
   "metadata": {},
   "outputs": [
    {
     "data": {
      "text/plain": [
       "(1, 5, 3.0)"
      ]
     },
     "execution_count": 25,
     "metadata": {},
     "output_type": "execute_result"
    }
   ],
   "source": [
    "basic_stats([1, 2, 3, 4, 5])"
   ]
  },
  {
   "cell_type": "code",
   "execution_count": 26,
   "id": "d3bb64de-f9e9-4afc-81ff-3107c1fc281a",
   "metadata": {},
   "outputs": [],
   "source": [
    "list_min, list_max, list_mean = basic_stats([1, 2, 3, 4, 5]) #unpacking the values"
   ]
  },
  {
   "attachments": {},
   "cell_type": "markdown",
   "id": "f6800579",
   "metadata": {},
   "source": [
    "### Named functions that don’t return"
   ]
  },
  {
   "attachments": {},
   "cell_type": "markdown",
   "id": "b521e692",
   "metadata": {},
   "source": [
    "## 1.2 Anonymous functions"
   ]
  },
  {
   "cell_type": "code",
   "execution_count": 27,
   "id": "b43b1b87-4ad2-4e33-a964-c88b89d79ab1",
   "metadata": {},
   "outputs": [],
   "source": [
    "my_short_function = lambda name: f\"Hello {name}!\""
   ]
  },
  {
   "cell_type": "code",
   "execution_count": 41,
   "id": "b0af1552-dee5-421f-aa28-14fd1e44827f",
   "metadata": {},
   "outputs": [
    {
     "data": {
      "text/plain": [
       "'Hello Super Man!'"
      ]
     },
     "execution_count": 41,
     "metadata": {},
     "output_type": "execute_result"
    }
   ],
   "source": [
    "my_short_function(name=\"Super Man\")"
   ]
  },
  {
   "cell_type": "code",
   "execution_count": 37,
   "id": "6b125c19-21a3-4467-9b02-23be81bf70dd",
   "metadata": {},
   "outputs": [
    {
     "data": {
      "text/plain": [
       "[[9, 0, -10],\n",
       " [8, 1, -11],\n",
       " [7, 2, -12],\n",
       " [6, 3, -13],\n",
       " [5, 4, -14],\n",
       " [4, 5, -15],\n",
       " [3, 6, -16],\n",
       " [2, 7, -17],\n",
       " [1, 8, -18],\n",
       " [0, 9, -19]]"
      ]
     },
     "execution_count": 37,
     "metadata": {},
     "output_type": "execute_result"
    }
   ],
   "source": [
    "numbers=[[9, 0, -10],\n",
    "         [8, 1, -11],\n",
    "         [7, 2, -12],\n",
    "         [6, 3, -13],\n",
    "         [5, 4, -14],\n",
    "         [4, 5, -15],\n",
    "         [3, 6, -16],\n",
    "         [2, 7, -17],\n",
    "         [1, 8, -18],\n",
    "         [0, 9, -19]]\n",
    "\n",
    "#sorted(numbers) #by default, this function sorts according to the first column\n",
    "\n",
    "def my_sort_function(numbers): #you can specify the criteria for sorting\n",
    "    return -sum(numbers)\n",
    "    return numbers[1] #now it sorts according to the middle column\n",
    "\n",
    "sorted(numbers, key=my_sort_function)"
   ]
  },
  {
   "cell_type": "code",
   "execution_count": 46,
   "id": "ad0890d8-b968-461d-8461-4855fec13e7e",
   "metadata": {},
   "outputs": [
    {
     "data": {
      "text/plain": [
       "[[9, 0, -10],\n",
       " [8, 1, -11],\n",
       " [7, 2, -12],\n",
       " [6, 3, -13],\n",
       " [5, 4, -14],\n",
       " [4, 5, -15],\n",
       " [3, 6, -16],\n",
       " [2, 7, -17],\n",
       " [1, 8, -18],\n",
       " [0, 9, -19]]"
      ]
     },
     "execution_count": 46,
     "metadata": {},
     "output_type": "execute_result"
    }
   ],
   "source": [
    "sorted(numbers, key=lambda x: x[1]) #this is an anonymous function. it doesnt have a name, and is only used for this case. everytime you call the function, it acts as a function."
   ]
  },
  {
   "cell_type": "code",
   "execution_count": 44,
   "id": "313bb993-cb96-405b-9b45-5765d06cd044",
   "metadata": {},
   "outputs": [
    {
     "data": {
      "text/plain": [
       "[[0, 9, -19],\n",
       " [1, 8, -18],\n",
       " [2, 7, -17],\n",
       " [3, 6, -16],\n",
       " [4, 5, -15],\n",
       " [5, 4, -14],\n",
       " [6, 3, -13],\n",
       " [7, 2, -12],\n",
       " [8, 1, -11],\n",
       " [9, 0, -10]]"
      ]
     },
     "execution_count": 44,
     "metadata": {},
     "output_type": "execute_result"
    }
   ],
   "source": [
    "sorted(numbers, key=lambda x:sum(x))"
   ]
  },
  {
   "attachments": {},
   "cell_type": "markdown",
   "id": "031173cf",
   "metadata": {},
   "source": [
    "## 1.3 Optional arguments"
   ]
  },
  {
   "cell_type": "code",
   "execution_count": 15,
   "id": "03de4b96-ac01-4ed3-84d0-70b1425ecff7",
   "metadata": {},
   "outputs": [
    {
     "data": {
      "text/plain": [
       "'Hello no one!'"
      ]
     },
     "execution_count": 15,
     "metadata": {},
     "output_type": "execute_result"
    }
   ],
   "source": [
    "def greeting(name='no one'):\n",
    "    if name == 'Batman':\n",
    "        return 'Hello Batman! So, nice to meet you!'\n",
    "    else:\n",
    "        return f'Hello {name}!'\n",
    "\n",
    "greeting(name='robin')\n",
    "greeting()"
   ]
  },
  {
   "cell_type": "code",
   "execution_count": 45,
   "id": "85519420-06af-450c-8dd1-e6ec9f0c9917",
   "metadata": {},
   "outputs": [
    {
     "data": {
      "text/plain": [
       "'Hello Batman! So, nice to meet you!'"
      ]
     },
     "execution_count": 45,
     "metadata": {},
     "output_type": "execute_result"
    }
   ],
   "source": [
    "greeting('Batman', 'joker')"
   ]
  },
  {
   "cell_type": "code",
   "execution_count": 46,
   "id": "361e2e29-f349-497c-901d-4eb2827a8083",
   "metadata": {},
   "outputs": [
    {
     "data": {
      "text/plain": [
       "\u001b[1;31mDocstring:\u001b[0m\n",
       "print(value, ..., sep=' ', end='\\n', file=sys.stdout, flush=False)\n",
       "\n",
       "Prints the values to a stream, or to sys.stdout by default.\n",
       "Optional keyword arguments:\n",
       "file:  a file-like object (stream); defaults to the current sys.stdout.\n",
       "sep:   string inserted between values, default a space.\n",
       "end:   string appended after the last value, default a newline.\n",
       "flush: whether to forcibly flush the stream.\n",
       "\u001b[1;31mType:\u001b[0m      builtin_function_or_method"
      ]
     },
     "metadata": {},
     "output_type": "display_data"
    }
   ],
   "source": [
    "?print"
   ]
  },
  {
   "cell_type": "code",
   "execution_count": 19,
   "id": "4da489bf-1f7c-47c3-8d65-0915ed6b649d",
   "metadata": {},
   "outputs": [
    {
     "name": "stdout",
     "output_type": "stream",
     "text": [
      "I am Batman!\n",
      "I---am---Batman!\n",
      "."
     ]
    }
   ],
   "source": [
    "print('I', 'am', 'Batman!')\n",
    "print('I', 'am', 'Batman!', sep='---', end='\\n.')"
   ]
  },
  {
   "attachments": {},
   "cell_type": "markdown",
   "id": "246ea286",
   "metadata": {},
   "source": [
    "## 1.4 The importance of functions?"
   ]
  },
  {
   "attachments": {},
   "cell_type": "markdown",
   "id": "7c807b95",
   "metadata": {},
   "source": [
    "### An argument for functions"
   ]
  },
  {
   "cell_type": "markdown",
   "id": "fbaa6de5-3a28-4e9f-8550-c208782e711d",
   "metadata": {},
   "source": [
    "Benefits of functions: <br>\n",
    "1. Abstraction (hiding) of details, hence you can focus more on strategising instead of details of the code\n",
    "2. Easy to reuse instead of copying and pasting. Shorter and cleaner codes\n",
    "3. Easy to change and maintain, only need to make changes in one place, at the function definition."
   ]
  },
  {
   "attachments": {},
   "cell_type": "markdown",
   "id": "65eae124",
   "metadata": {},
   "source": [
    "### A word of caution"
   ]
  },
  {
   "cell_type": "code",
   "execution_count": null,
   "id": "e763d846",
   "metadata": {},
   "outputs": [],
   "source": [
    "\n",
    "# Your code here\n"
   ]
  }
 ],
 "metadata": {
  "kernelspec": {
   "display_name": "Python 3 (ipykernel)",
   "language": "python",
   "name": "python3"
  },
  "language_info": {
   "codemirror_mode": {
    "name": "ipython",
    "version": 3
   },
   "file_extension": ".py",
   "mimetype": "text/x-python",
   "name": "python",
   "nbconvert_exporter": "python",
   "pygments_lexer": "ipython3",
   "version": "3.9.19"
  },
  "toc": {
   "base_numbering": 1,
   "nav_menu": {},
   "number_sections": true,
   "sideBar": true,
   "skip_h1_title": false,
   "title_cell": "Table of Contents",
   "title_sidebar": "Contents",
   "toc_cell": false,
   "toc_position": {},
   "toc_section_display": true,
   "toc_window_display": false
  },
  "vscode": {
   "interpreter": {
    "hash": "31f2aee4e71d21fbe5cf8b01ff0e069b9275f58929596ceb00d14d90e3e16cd6"
   }
  }
 },
 "nbformat": 4,
 "nbformat_minor": 5
}
