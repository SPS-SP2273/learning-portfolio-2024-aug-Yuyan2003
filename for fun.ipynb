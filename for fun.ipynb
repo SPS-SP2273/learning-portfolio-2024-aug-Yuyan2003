{
 "cells": [
  {
   "cell_type": "markdown",
   "id": "7b638f48-b2eb-4006-80ac-4a171e8a296a",
   "metadata": {},
   "source": [
    "print(\"happy birthday to you\")\n",
    "print(\"happy birthday to you\")\n",
    "print(\"happy birthday to wilson\")\n",
    "print(\"happy birthday to you\")"
   ]
  },
  {
   "cell_type": "markdown",
   "id": "80f03d5f-1b9c-4886-9307-3c5a9226a79e",
   "metadata": {},
   "source": [
    "![](https://cdn.shopify.com/s/files/1/0670/2659/products/Chocolate_Bliss_Birthday.jpeg?v=1493092157)"
   ]
  }
 ],
 "metadata": {
  "kernelspec": {
   "display_name": "Python 3 (ipykernel)",
   "language": "python",
   "name": "python3"
  },
  "language_info": {
   "codemirror_mode": {
    "name": "ipython",
    "version": 3
   },
   "file_extension": ".py",
   "mimetype": "text/x-python",
   "name": "python",
   "nbconvert_exporter": "python",
   "pygments_lexer": "ipython3",
   "version": "3.9.19"
  }
 },
 "nbformat": 4,
 "nbformat_minor": 5
}
