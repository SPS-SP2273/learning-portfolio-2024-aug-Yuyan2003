{
 "cells": [
  {
   "attachments": {},
   "cell_type": "markdown",
   "id": "123456",
   "metadata": {},
   "source": [
    "<div style=\"text-align:left;font-size:2em\"><span style=\"font-weight:bolder;font-size:1.25em\">SP2273 | Learning Portfolio</span><br><br><span style=\"font-weight:bold;color:darkred\">Storing Data (Good) Exercises</span></div>"
   ]
  },
  {
   "cell_type": "markdown",
   "id": "7d2e9c7e-e29e-424d-8680-a4918d491aef",
   "metadata": {},
   "source": [
    "## Exercise 1 (Total recall) "
   ]
  },
  {
   "cell_type": "markdown",
   "id": "7dcc7c9b-f165-47f1-aeee-da60dc3d5cf1",
   "metadata": {},
   "source": [
    "|Term|Brief Description|\n",
    "|:---|:---:|\n",
    "|Subsetting|Selecting a part of the data from an entire list or array.|\n",
    "|Indexing|Giving an index to each element of the dataset, according to their respective positions in the list. _corrected answer: selecting one element_|\n",
    "|Slicing|_selecting a range of elements_|\n",
    "|Masking|Give a condition and make all 'True' events of that condition = 1, all 'False' events = 0. We can use the masking function to filter out values such that we only obtain either 'True' or 'False' events as output|"
   ]
  },
  {
   "cell_type": "markdown",
   "id": "bb0baad2-07a9-4548-899c-37860e5c2d2f",
   "metadata": {},
   "source": [
    "## Exercise 2 (Show me the ‘odd’ letters)"
   ]
  },
  {
   "cell_type": "code",
   "execution_count": 50,
   "id": "6c9c310c-3219-4fc8-99b5-55c50f938dff",
   "metadata": {},
   "outputs": [
    {
     "data": {
      "text/plain": [
       "array([['1', 'A'],\n",
       "       ['3', 'C'],\n",
       "       ['5', 'E'],\n",
       "       ['7', 'G'],\n",
       "       ['9', 'I']], dtype='<U11')"
      ]
     },
     "execution_count": 50,
     "metadata": {},
     "output_type": "execute_result"
    }
   ],
   "source": [
    "import numpy as np\n",
    "np_array_2d = np.array([[1, \"A\"], [3, \"C\"], [2, \"B\"], [4, \"D\"],\n",
    "                        [5, \"E\"], [7, \"G\"], [6, \"F\"], [8, \"H\"],\n",
    "                        [10, \"J\"], [9, \"I\"]])\n",
    "\n",
    "np_array_2d[:10, 0] #subset all the first elements\n",
    "\n",
    "int_array = np_array_2d[:10, 0].astype(int) #convert np_array_2d subset into integers using astype(int)\n",
    "\n",
    "int_array % 2 #remainders for division by 2\n",
    "\n",
    "my_mask = int_array % 2 == 1 #check for whether integer in the array was divisible by 2. 'True' event = remainder was 1; number is non-divisble by 2; odd number. 'False' event = even number\n",
    "\n",
    "np_array_2d[my_mask]"
   ]
  },
  {
   "cell_type": "code",
   "execution_count": 56,
   "id": "b66fe39c-f78e-474e-9a8a-91510777c267",
   "metadata": {},
   "outputs": [
    {
     "name": "stdout",
     "output_type": "stream",
     "text": [
      "These are the 'odd letters': ['A' 'C' 'E' 'G' 'I'].\n"
     ]
    }
   ],
   "source": [
    "#to extract the corresponding second elements\n",
    "\n",
    "odd_numbers = np_array_2d[my_mask]\n",
    "\n",
    "odd_numbers[:10, 1]\n",
    "\n",
    "print(f'These are the \\'odd letters\\': {odd_numbers[:10, 1]}.')"
   ]
  },
  {
   "cell_type": "markdown",
   "id": "6784479c-3d67-4e90-99a5-b0214b9b8424",
   "metadata": {},
   "source": [
    "## Exercise 3  "
   ]
  },
  {
   "cell_type": "code",
   "execution_count": 77,
   "id": "c61ef35d-6fff-419f-854b-082c8e537472",
   "metadata": {},
   "outputs": [
    {
     "name": "stdout",
     "output_type": "stream",
     "text": [
      "[[ 1  0  1 -1 -1]\n",
      " [ 1 -1  1 -1 -1]\n",
      " [ 1 -1 -1  1 -1]\n",
      " [-1  1  1 -1 -1]\n",
      " [ 1 -1  1 -1  1]]\n"
     ]
    }
   ],
   "source": [
    "array = np.array([[66, 50, 57, -1, -1],\n",
    " [92, -1, 88, -1, -1],\n",
    " [75, -1, -1, 76, -1],\n",
    " [-1, 51, 87, -1, -1],\n",
    " [71, -1, 67, -1, 69]])\n",
    "\n",
    "# Apply conditions directly to the array using boolean indexing\n",
    "array[array < 50] = -1 # Set -1 where values are less than 50\n",
    "array[array > 50] = +1 # Set +1 where values are more than 50\n",
    "array[array == 50] = 0 # Set 0 where values are equal to 50\n",
    "\n",
    "print(array)"
   ]
  }
 ],
 "metadata": {
  "kernelspec": {
   "display_name": "Python 3 (ipykernel)",
   "language": "python",
   "name": "python3"
  },
  "language_info": {
   "codemirror_mode": {
    "name": "ipython",
    "version": 3
   },
   "file_extension": ".py",
   "mimetype": "text/x-python",
   "name": "python",
   "nbconvert_exporter": "python",
   "pygments_lexer": "ipython3",
   "version": "3.9.19"
  },
  "toc": {
   "base_numbering": 1,
   "nav_menu": {},
   "number_sections": true,
   "sideBar": true,
   "skip_h1_title": false,
   "title_cell": "Table of Contents",
   "title_sidebar": "Contents",
   "toc_cell": false,
   "toc_position": {},
   "toc_section_display": true,
   "toc_window_display": false
  },
  "vscode": {
   "interpreter": {
    "hash": "31f2aee4e71d21fbe5cf8b01ff0e069b9275f58929596ceb00d14d90e3e16cd6"
   }
  }
 },
 "nbformat": 4,
 "nbformat_minor": 5
}
