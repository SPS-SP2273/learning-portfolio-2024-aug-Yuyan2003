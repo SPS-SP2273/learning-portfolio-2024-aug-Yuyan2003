{
 "cells": [
  {
   "cell_type": "code",
   "execution_count": 7,
   "id": "75c47b80-1b3f-4de1-b303-83feca937a88",
   "metadata": {},
   "outputs": [
    {
     "name": "stdout",
     "output_type": "stream",
     "text": [
      "hello world\n"
     ]
    }
   ],
   "source": [
    "print('hello world')"
   ]
  },
  {
   "cell_type": "markdown",
   "id": "1639db10-9ba4-413e-81cd-ca48eca627cc",
   "metadata": {},
   "source": [
    "print('The ships *hung in the sky* in much the same way that **bricks don’t.**<sup>1')"
   ]
  },
  {
   "cell_type": "markdown",
   "id": "604293dc-a18b-47df-ac8d-f20afcc3cce7",
   "metadata": {},
   "source": [
    "print('The ships *hung in the sky* in the much the same way that **bricks dont**.<sup>1</sup><sub>QUOTE</sub>')"
   ]
  },
  {
   "cell_type": "markdown",
   "id": "dba72388-1660-4039-9142-9c12f9abc883",
   "metadata": {},
   "source": [
    "print('The ships *hung in the sky* in the much the same way that **bricks dont**.<sup>1<sub>QUOTE')"
   ]
  },
  {
   "cell_type": "markdown",
   "id": "110ce22d-bfb4-4646-9a8c-9108944d7c64",
   "metadata": {},
   "source": [
    "### heading\n",
    "```python\n",
    "print('hello world')\n",
    "```"
   ]
  },
  {
   "cell_type": "markdown",
   "id": "5b2e9f26-92d4-4f39-bd3b-7865aadce860",
   "metadata": {},
   "source": [
    "`print('hello world')`"
   ]
  },
  {
   "cell_type": "markdown",
   "id": "9c174a5c-3472-4ad9-93ac-4d8e0447e884",
   "metadata": {},
   "source": [
    "[SP2273 website](https://sps.nus.edu.sg/sp2273)"
   ]
  },
  {
   "cell_type": "markdown",
   "id": "12931c30-cc9a-4edd-ad44-8a7d30d7bdbe",
   "metadata": {},
   "source": [
    "![](https://nus.edu.sg/images/default-source/base/logo.png)"
   ]
  },
  {
   "cell_type": "markdown",
   "id": "8a5695b1-6aef-4c1b-a995-c6e028712d94",
   "metadata": {},
   "source": [
    "![](Screenshot.png)"
   ]
  },
  {
   "cell_type": "code",
   "execution_count": 13,
   "id": "98e59db5-77ff-4fa8-98eb-bb02f38a8cf0",
   "metadata": {},
   "outputs": [
    {
     "name": "stdout",
     "output_type": "stream",
     "text": [
      " Volume in drive C is Windows-SSD\n",
      " Volume Serial Number is 6EE6-04C1\n",
      "\n",
      " Directory of C:\\Users\\fred\\Downloads\\SP2273\\learning-portfolio-2024-aug-Yuyan2003\n",
      "\n",
      "15/08/2024  09:23 am    <DIR>          .\n",
      "15/08/2024  09:19 am    <DIR>          ..\n",
      "13/08/2024  09:08 am             3,335 .gitignore\n",
      "15/08/2024  09:23 am    <DIR>          .ipynb_checkpoints\n",
      "13/08/2024  09:08 am    <DIR>          0.1_hello,_github!\n",
      "13/08/2024  09:08 am    <DIR>          0.2_hello,_jupyter!\n",
      "13/08/2024  09:08 am    <DIR>          0.3_Virtual_Environments_(Nice!)\n",
      "13/08/2024  09:08 am    <DIR>          1.1_using_jupyter\n",
      "13/08/2024  09:08 am    <DIR>          1.2_using_jupyter_,_exercises\n",
      "13/08/2024  09:08 am    <DIR>          2.1_fundamentals\n",
      "13/08/2024  09:08 am    <DIR>          2.2_fundamentals__exercises\n",
      "13/08/2024  09:08 am    <DIR>          3.1_storing_data\n",
      "13/08/2024  09:08 am    <DIR>          3.2_storing_data__exercises\n",
      "13/08/2024  09:08 am    <DIR>          4.1_loops\n",
      "13/08/2024  09:08 am    <DIR>          4.2_loops__exercises\n",
      "13/08/2024  09:08 am    <DIR>          5.1_functions\n",
      "13/08/2024  09:08 am    <DIR>          5.2_functions__exercises\n",
      "13/08/2024  09:08 am    <DIR>          6.1_files,_folders_&_os\n",
      "13/08/2024  09:08 am    <DIR>          6.2_files,_folders_&_os__exercises\n",
      "13/08/2024  09:08 am    <DIR>          7.1_plotting\n",
      "13/08/2024  09:08 am    <DIR>          7.2_plotting__exercises\n",
      "13/08/2024  09:08 am             1,088 LICENSE\n",
      "13/08/2024  09:08 am               203 README.md\n",
      "13/08/2024  01:39 am           631,483 Screenshot 2024-08-13 013934.png\n",
      "13/08/2024  09:54 am    <DIR>          testing\n",
      "15/08/2024  09:23 am                72 Untitled.ipynb\n",
      "15/08/2024  09:21 am             2,086 using-jupyter_need.ipynb\n",
      "               6 File(s)        638,267 bytes\n",
      "              21 Dir(s)  46,846,603,264 bytes free\n"
     ]
    }
   ],
   "source": [
    "!dir"
   ]
  },
  {
   "cell_type": "code",
   "execution_count": 15,
   "id": "11c35a95-de09-464d-8507-0cfbc1669d6d",
   "metadata": {},
   "outputs": [
    {
     "name": "stdout",
     "output_type": "stream",
     "text": [
      "hello hahahahhha yuyan LOLOLOLOL world\n",
      "hello hahahahhha yuyan LOLOLOLOL world again\n"
     ]
    }
   ],
   "source": [
    "print(\"hello hahahahhha yuyan LOLOLOLOL world\")\n",
    "print(\"hello hahahahhha yuyan LOLOLOLOL world again\")"
   ]
  },
  {
   "cell_type": "markdown",
   "id": "26f733f1-3db1-43dc-bd39-9d8c6be994bf",
   "metadata": {},
   "source": [
    "| A    |  B   |    C |\n",
    "| :--: | :-:  |  :-: |\n",
    "| a1   |  b1  |   c1 |\n",
    "| a2   |  b2  |   c2 |\n",
    "| a3   |  b3  |   c3 |"
   ]
  },
  {
   "cell_type": "markdown",
   "id": "25ffd263-bda5-44aa-869c-d6c9ee862c4a",
   "metadata": {},
   "source": [
    "### testing my own tables\n",
    "\n",
    "reference table:\n",
    "![](https://web.stanford.edu/class/cs101/table.png)"
   ]
  },
  {
   "cell_type": "markdown",
   "id": "94a578f8-a916-4930-96b6-48c771d7d7a1",
   "metadata": {},
   "source": [
    "|table of baby-name data          |\n",
    "| :-----:                         |\n",
    "\n",
    "| name     | rank | gender | year |\n",
    "| :---     | :--: |   :--: | ---: |\n",
    "| jacob    | 1    | boy    | 2010 |\n",
    "| isabella | 1    | girl   | 2010 |\n",
    "| ethan    | 2    | boy    | 2010 |\n",
    "| sophia   | 2    | girl   | 2010 |\n",
    "| michael  | 3    | boy    | 2010 |"
   ]
  },
  {
   "attachments": {},
   "cell_type": "markdown",
   "id": "c5021087-d847-4025-b580-886292681382",
   "metadata": {},
   "source": [
    "#### numbered lists\n",
    "1. Master Yoda\n",
    "   1. jedi\n",
    "   2. green\n",
    "   3. \n",
    "1. Luke Skywalker\n",
    "1. Anakin Skywalker\n",
    "\n",
    "#### unnumbered lists\n",
    "- Master Yoda\n",
    "- Luke Skywalker\n",
    "- Anakin Skywalker"
   ]
  },
  {
   "cell_type": "markdown",
   "id": "b1dd4673-4433-46d4-aad5-6bdbed9bf779",
   "metadata": {},
   "source": [
    "#### math equations\n",
    "this is inline math. $\\sqrt{b^2-4ac}$\n",
    "\n",
    "$$this is block math.$$\n",
    "$$\n",
    "x = \\dfrac{-b \\pm \\sqrt{b^2-4ac}}{2a}\n",
    "$$\n",
    "\n",
    "$$ \\dfrac{y}{x} $$"
   ]
  },
  {
   "cell_type": "code",
   "execution_count": 5,
   "id": "ac7a99df-49cb-4e2d-aa48-3363a3066631",
   "metadata": {},
   "outputs": [
    {
     "name": "stdout",
     "output_type": "stream",
     "text": [
      "C:\\Users\\fred\\Downloads\\SP2273\\learning-portfolio-2024-aug-Yuyan2003\n",
      " Volume in drive C is Windows-SSD\n",
      " Volume Serial Number is 6EE6-04C1\n",
      "\n",
      " Directory of C:\\Users\\fred\\Downloads\\SP2273\\learning-portfolio-2024-aug-Yuyan2003\n",
      "\n",
      "15/08/2024  04:14 pm    <DIR>          .\n",
      "15/08/2024  09:19 am    <DIR>          ..\n",
      "13/08/2024  09:08 am             3,335 .gitignore\n",
      "15/08/2024  09:23 am    <DIR>          .ipynb_checkpoints\n",
      "13/08/2024  09:08 am    <DIR>          0.1_hello,_github!\n",
      "13/08/2024  09:08 am    <DIR>          0.2_hello,_jupyter!\n",
      "13/08/2024  09:08 am    <DIR>          0.3_Virtual_Environments_(Nice!)\n",
      "13/08/2024  09:08 am    <DIR>          1.1_using_jupyter\n",
      "13/08/2024  09:08 am    <DIR>          1.2_using_jupyter_,_exercises\n",
      "13/08/2024  09:08 am    <DIR>          2.1_fundamentals\n",
      "13/08/2024  09:08 am    <DIR>          2.2_fundamentals__exercises\n",
      "13/08/2024  09:08 am    <DIR>          3.1_storing_data\n",
      "13/08/2024  09:08 am    <DIR>          3.2_storing_data__exercises\n",
      "13/08/2024  09:08 am    <DIR>          4.1_loops\n",
      "13/08/2024  09:08 am    <DIR>          4.2_loops__exercises\n",
      "13/08/2024  09:08 am    <DIR>          5.1_functions\n",
      "13/08/2024  09:08 am    <DIR>          5.2_functions__exercises\n",
      "13/08/2024  09:08 am    <DIR>          6.1_files,_folders_&_os\n",
      "13/08/2024  09:08 am    <DIR>          6.2_files,_folders_&_os__exercises\n",
      "13/08/2024  09:08 am    <DIR>          7.1_plotting\n",
      "13/08/2024  09:08 am    <DIR>          7.2_plotting__exercises\n",
      "13/08/2024  09:08 am             1,088 LICENSE\n",
      "13/08/2024  09:08 am               203 README.md\n",
      "13/08/2024  01:39 am           631,483 Screenshot.png\n",
      "13/08/2024  09:54 am    <DIR>          testing\n",
      "15/08/2024  09:23 am                72 Untitled.ipynb\n",
      "15/08/2024  04:14 pm             7,292 using-jupyter_need.ipynb\n",
      "               6 File(s)        643,473 bytes\n",
      "              21 Dir(s)  45,833,347,072 bytes free\n"
     ]
    }
   ],
   "source": [
    "!cd\n",
    "\n",
    "!dir"
   ]
  },
  {
   "cell_type": "code",
   "execution_count": 2,
   "id": "540a434b-d35a-462a-ab00-9a26f446a3a5",
   "metadata": {},
   "outputs": [
    {
     "name": "stdout",
     "output_type": "stream",
     "text": [
      "15 ns ± 0.176 ns per loop (mean ± std. dev. of 7 runs, 100,000,000 loops each)\n"
     ]
    }
   ],
   "source": [
    "%timeit x=10"
   ]
  }
 ],
 "metadata": {
  "kernelspec": {
   "display_name": "Python 3 (ipykernel)",
   "language": "python",
   "name": "python3"
  },
  "language_info": {
   "codemirror_mode": {
    "name": "ipython",
    "version": 3
   },
   "file_extension": ".py",
   "mimetype": "text/x-python",
   "name": "python",
   "nbconvert_exporter": "python",
   "pygments_lexer": "ipython3",
   "version": "3.9.19"
  }
 },
 "nbformat": 4,
 "nbformat_minor": 5
}
