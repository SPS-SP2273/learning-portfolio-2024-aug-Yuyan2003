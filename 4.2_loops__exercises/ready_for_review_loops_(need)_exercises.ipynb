{
 "cells": [
  {
   "attachments": {},
   "cell_type": "markdown",
   "id": "123456",
   "metadata": {},
   "source": [
    "<div style=\"text-align:left;font-size:2em\"><span style=\"font-weight:bolder;font-size:1.25em\">SP2273 | Learning Portfolio</span><br><br><span style=\"font-weight:bold;color:darkred\">Loops (Need) Exercises</span></div>"
   ]
  },
  {
   "cell_type": "markdown",
   "id": "f2c236ca-0a14-436d-86af-f71eca257dc8",
   "metadata": {},
   "source": [
    "## Exercise 1 (Celsius to Fahrenheit)"
   ]
  },
  {
   "cell_type": "code",
   "execution_count": 2,
   "id": "dc19ba67-e688-45c7-94d0-8028bd022a09",
   "metadata": {},
   "outputs": [
    {
     "name": "stdout",
     "output_type": "stream",
     "text": [
      "0.0°C, 32.0°F\n",
      "5.0°C, 41.0°F\n",
      "10.0°C, 50.0°F\n",
      "15.0°C, 59.0°F\n",
      "20.0°C, 68.0°F\n",
      "25.0°C, 77.0°F\n",
      "30.0°C, 86.0°F\n",
      "35.0°C, 95.0°F\n",
      "40.0°C, 104.0°F\n",
      "45.0°C, 113.0°F\n",
      "50.0°C, 122.0°F\n"
     ]
    }
   ],
   "source": [
    "temperatures_celsius = [0, 5, 10, 15, 20, 25, 30, 35, 40, 45, 50]\n",
    "\n",
    "for n in temperatures_celsius:\n",
    "    temperatures_farenheit = 1.8*(n) + 32\n",
    "    print(f'{n:.1f}\\N{degree sign}C, {temperatures_farenheit}\\N{degree sign}F')"
   ]
  },
  {
   "cell_type": "markdown",
   "id": "990010f4-837c-4390-b5df-8336ec3375fe",
   "metadata": {},
   "source": [
    "## Exercise 2 (Multiplication table)"
   ]
  },
  {
   "cell_type": "code",
   "execution_count": 2,
   "id": "5cebe6fc-696d-4284-acd4-6c5eb59b731f",
   "metadata": {},
   "outputs": [
    {
     "name": "stdout",
     "output_type": "stream",
     "text": [
      "1 : 1   2   3   4   5    \n",
      "2 : 2   4   6   8   10   \n",
      "3 : 3   6   9   12  15   \n",
      "4 : 4   8   12  16  20   \n",
      "5 : 5   10  15  20  25   \n"
     ]
    }
   ],
   "source": [
    "for number_1 in [1, 2, 3, 4, 5]:\n",
    "    print(f'{number_1} :', end = ' ')\n",
    "    for number_2 in [1, 2, 3, 4, 5]:\n",
    "        print(f\"{number_1 * number_2}\".center(2),end='  ')\n",
    "    print(' ')"
   ]
  },
  {
   "cell_type": "markdown",
   "id": "25a270bc-14e4-4d0b-9d76-749231559d0e",
   "metadata": {},
   "source": [
    "## Exercise 3 (Simulating a Coin Flip Experiment)  "
   ]
  },
  {
   "cell_type": "code",
   "execution_count": 4,
   "id": "68b2f1a2-69cd-4063-8283-2ab95a367d4e",
   "metadata": {},
   "outputs": [
    {
     "name": "stdout",
     "output_type": "stream",
     "text": [
      "Experiment 1: No. of Heads = 5\n",
      "Experiment 2: No. of Heads = 7\n",
      "Experiment 3: No. of Heads = 5\n",
      "Experiment 4: No. of Heads = 6\n",
      "Experiment 5: No. of Heads = 5\n",
      "Experiment 6: No. of Heads = 3\n",
      "Experiment 7: No. of Heads = 2\n",
      "Experiment 8: No. of Heads = 7\n",
      "Experiment 9: No. of Heads = 5\n",
      "Experiment 10: No. of Heads = 3\n"
     ]
    }
   ],
   "source": [
    "count = 0\n",
    "for n in range(10):\n",
    "    heads = 0\n",
    "    count +=1\n",
    "    flips = np.random.rand(10)\n",
    "    for n in flips:\n",
    "        if n < 0.5:\n",
    "            continue\n",
    "        if n > 0.5:\n",
    "            heads += 1\n",
    "    print(f'Experiment {count}: No. of Heads = {heads}')"
   ]
  }
 ],
 "metadata": {
  "kernelspec": {
   "display_name": "Python 3 (ipykernel)",
   "language": "python",
   "name": "python3"
  },
  "language_info": {
   "codemirror_mode": {
    "name": "ipython",
    "version": 3
   },
   "file_extension": ".py",
   "mimetype": "text/x-python",
   "name": "python",
   "nbconvert_exporter": "python",
   "pygments_lexer": "ipython3",
   "version": "3.9.19"
  },
  "toc": {
   "base_numbering": 1,
   "nav_menu": {},
   "number_sections": true,
   "sideBar": true,
   "skip_h1_title": false,
   "title_cell": "Table of Contents",
   "title_sidebar": "Contents",
   "toc_cell": false,
   "toc_position": {},
   "toc_section_display": true,
   "toc_window_display": false
  },
  "vscode": {
   "interpreter": {
    "hash": "31f2aee4e71d21fbe5cf8b01ff0e069b9275f58929596ceb00d14d90e3e16cd6"
   }
  }
 },
 "nbformat": 4,
 "nbformat_minor": 5
}
