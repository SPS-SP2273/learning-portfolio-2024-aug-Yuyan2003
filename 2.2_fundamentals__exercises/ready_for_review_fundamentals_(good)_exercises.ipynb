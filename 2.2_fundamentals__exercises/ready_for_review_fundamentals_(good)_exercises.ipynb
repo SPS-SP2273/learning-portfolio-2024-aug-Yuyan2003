{
 "cells": [
  {
   "attachments": {},
   "cell_type": "markdown",
   "id": "123456",
   "metadata": {},
   "source": [
    "<div style=\"text-align:left;font-size:2em\"><span style=\"font-weight:bolder;font-size:1.25em\">SP2273 | Learning Portfolio</span><br><br><span style=\"font-weight:bold;color:darkred\">Fundamentals (Good) Exercises</span></div>"
   ]
  },
  {
   "cell_type": "markdown",
   "id": "dea6a86f-ac57-42e0-bf3f-d69f88cfdd19",
   "metadata": {},
   "source": [
    "## Exercise 1 (f-strings to the rescue)  \r\n"
   ]
  },
  {
   "cell_type": "code",
   "execution_count": null,
   "id": "5ba09460-acbf-4920-8a60-94cfb9706fbc",
   "metadata": {},
   "outputs": [],
   "source": [
    "### Example 1\n",
    "\n",
    "user_input = input('Please provide me with a number?')\n",
    "print('You entered', user_input)"
   ]
  },
  {
   "cell_type": "code",
   "execution_count": null,
   "id": "dec8d8f1-f0bc-4e04-94db-6b02a4b815cf",
   "metadata": {},
   "outputs": [],
   "source": [
    "### Task 1\n",
    "\n",
    "user_input = input('What is your name?')\n",
    "print('How you doin', f'**{user_input.upper()}**','!')"
   ]
  },
  {
   "cell_type": "code",
   "execution_count": 5,
   "id": "1cbd23fc-ced0-449b-a7dd-3bc63edad344",
   "metadata": {},
   "outputs": [
    {
     "name": "stdin",
     "output_type": "stream",
     "text": [
      "What is your name? yuyan\n",
      "What is your age? 21\n"
     ]
    },
    {
     "name": "stdout",
     "output_type": "stream",
     "text": [
      "My name is YUYAN and I am 21 years old.\n"
     ]
    }
   ],
   "source": [
    "## Task 2\n",
    "\n",
    "user_input_1 = input('What is your name?')\n",
    "user_input_2 = input('What is your age?')\n",
    "print(f'My name is {user_input_1.upper()} and I am {user_input_2.upper()} years old.')"
   ]
  },
  {
   "cell_type": "code",
   "execution_count": null,
   "id": "30a53112-ac00-461c-bd45-2af3beca36b6",
   "metadata": {},
   "outputs": [],
   "source": [
    "### Task 3\n",
    "\n",
    "import math\n",
    "\n",
    "text = math.pi\n",
    "\n",
    "print(f'The value of pi to 2 decimal places is: {text:.2f}')\n",
    "\n",
    "print(f'The value of pi to 2 decimal places is: {text:.3f}')\n",
    "\n",
    "print(f'The value of pi to 2 decimal places is: {text:.4f}')"
   ]
  },
  {
   "cell_type": "code",
   "execution_count": null,
   "id": "26afb392-9fad-46f7-bafc-3f5c3b11a747",
   "metadata": {},
   "outputs": [],
   "source": [
    "### Task 4\n",
    "\n",
    "text = 'Apple'\n",
    "print(f'{text:<10} $ 0.99')\n",
    "\n",
    "text = 'Banana'\n",
    "print(f'{text:<10} $ 0.59')\n",
    "\n",
    "text = 'Orange'\n",
    "print(f'{text:<10} $ 1.29')"
   ]
  },
  {
   "cell_type": "markdown",
   "id": "f1af41ca-3a67-4fe9-8cf1-f2a795bf83ee",
   "metadata": {},
   "source": [
    "## Exercise 2 (What is your grade?)"
   ]
  },
  {
   "cell_type": "code",
   "execution_count": null,
   "id": "65dff02d-43d9-42ff-9739-bb9de8ea86fc",
   "metadata": {},
   "outputs": [],
   "source": [
    "x = int(input('Enter the student\\'s score:'))\n",
    "\n",
    "if 0 < x < 100:\n",
    "\n",
    "    if 70 <= x <= 100:\n",
    "        print(f'The student\\'s letter grade is: A')\n",
    "    \n",
    "    elif 50 <= x <= 69:\n",
    "        print(f'The student\\'s letter grade is: B')\n",
    "    \n",
    "    elif 35 <= x <= 49:\n",
    "        print(f'The student\\'s letter grade is: C')\n",
    "    \n",
    "    else:\n",
    "        print(f'The student\\'s letter grade is: fail')\n",
    "\n",
    "else:\n",
    "    print('Invalid input')"
   ]
  },
  {
   "cell_type": "markdown",
   "id": "e0122868-331e-4924-ac66-071504017d25",
   "metadata": {},
   "source": [
    "## Exercise 3 (Debugging Code)"
   ]
  },
  {
   "cell_type": "code",
   "execution_count": null,
   "id": "ec6ef738-0448-48fe-a95e-cada8efdc967",
   "metadata": {},
   "outputs": [],
   "source": [
    "def factorial(n):\n",
    "    if n < 0:\n",
    "        return \"Invalid input\"\n",
    "    elif n == 0:\n",
    "        return 1\n",
    "    else:\n",
    "        result = 1\n",
    "        for number in range(1, n+1):\n",
    "            result *= number\n",
    "        return result\n",
    "\n",
    "\n",
    "print(factorial(5))   # Testing, expected output: 120\n",
    "print(factorial(-1))  # Testing, expected output: Invalid input"
   ]
  }
 ],
 "metadata": {
  "kernelspec": {
   "display_name": "Python 3 (ipykernel)",
   "language": "python",
   "name": "python3"
  },
  "language_info": {
   "codemirror_mode": {
    "name": "ipython",
    "version": 3
   },
   "file_extension": ".py",
   "mimetype": "text/x-python",
   "name": "python",
   "nbconvert_exporter": "python",
   "pygments_lexer": "ipython3",
   "version": "3.9.19"
  },
  "toc": {
   "base_numbering": 1,
   "nav_menu": {},
   "number_sections": true,
   "sideBar": true,
   "skip_h1_title": false,
   "title_cell": "Table of Contents",
   "title_sidebar": "Contents",
   "toc_cell": false,
   "toc_position": {},
   "toc_section_display": true,
   "toc_window_display": false
  },
  "vscode": {
   "interpreter": {
    "hash": "31f2aee4e71d21fbe5cf8b01ff0e069b9275f58929596ceb00d14d90e3e16cd6"
   }
  }
 },
 "nbformat": 4,
 "nbformat_minor": 5
}
