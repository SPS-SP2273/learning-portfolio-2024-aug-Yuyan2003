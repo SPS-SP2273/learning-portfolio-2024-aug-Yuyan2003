{
 "cells": [
  {
   "attachments": {},
   "cell_type": "markdown",
   "id": "123456",
   "metadata": {},
   "source": [
    "<div style=\"text-align:left;font-size:2em\"><span style=\"font-weight:bolder;font-size:1.25em\">SP2273 | Learning Portfolio</span><br><br><span style=\"font-weight:bold;color:darkred\">Storing Data (Good)</span></div>"
   ]
  },
  {
   "attachments": {},
   "cell_type": "markdown",
   "id": "bde9d542",
   "metadata": {},
   "source": [
    "# What to expect in this chapter"
   ]
  },
  {
   "attachments": {},
   "cell_type": "markdown",
   "id": "b997e4b5",
   "metadata": {},
   "source": [
    "# 1 Subsetting: Indexing and Slicing"
   ]
  },
  {
   "cell_type": "code",
   "execution_count": 3,
   "id": "0beb1826-4a49-4646-85c7-d7f627babf79",
   "metadata": {},
   "outputs": [],
   "source": [
    "import numpy as np"
   ]
  },
  {
   "cell_type": "code",
   "execution_count": 4,
   "id": "222c4ee4-aba5-4f1f-88fd-d602c7b31fea",
   "metadata": {},
   "outputs": [],
   "source": [
    "py_list = [\"a1\", \"b2\", \"c3\", \"d4\", \"e5\", \"f6\", \"g7\", \"h8\", \"i9\", \"j10\"]\n",
    "np_array = np.array(py_list)\n",
    "\n",
    "x = py_list\n",
    "x = np_array"
   ]
  },
  {
   "cell_type": "code",
   "execution_count": 5,
   "id": "9e0861f3-5702-4362-92f8-b982e1196196",
   "metadata": {},
   "outputs": [
    {
     "data": {
      "text/plain": [
       "'a1'"
      ]
     },
     "execution_count": 5,
     "metadata": {},
     "output_type": "execute_result"
    }
   ],
   "source": [
    "x[0] #first element"
   ]
  },
  {
   "cell_type": "code",
   "execution_count": 6,
   "id": "4203fba5-dfa1-42d2-aef4-5bb811b13b25",
   "metadata": {},
   "outputs": [
    {
     "data": {
      "text/plain": [
       "'h8'"
      ]
     },
     "execution_count": 6,
     "metadata": {},
     "output_type": "execute_result"
    }
   ],
   "source": [
    "x[-3] #third last element from the back"
   ]
  },
  {
   "cell_type": "code",
   "execution_count": 10,
   "id": "31c56dfc-71d1-4479-8c91-6e38b1938a5a",
   "metadata": {},
   "outputs": [
    {
     "data": {
      "text/plain": [
       "array(['j10', 'i9', 'h8', 'g7', 'f6', 'e5', 'd4', 'c3', 'b2', 'a1'],\n",
       "      dtype='<U3')"
      ]
     },
     "execution_count": 10,
     "metadata": {},
     "output_type": "execute_result"
    }
   ],
   "source": [
    "x[::-1] #reverses the list"
   ]
  },
  {
   "cell_type": "code",
   "execution_count": 12,
   "id": "89ea895b-71ed-48c8-b996-12b4ef1cbf07",
   "metadata": {},
   "outputs": [
    {
     "data": {
      "text/plain": [
       "array(['j10', 'h8', 'f6', 'd4', 'b2'], dtype='<U3')"
      ]
     },
     "execution_count": 12,
     "metadata": {},
     "output_type": "execute_result"
    }
   ],
   "source": [
    "x[::-2] #reverse the list, and select by intervals of 2"
   ]
  },
  {
   "attachments": {},
   "cell_type": "markdown",
   "id": "82b64096",
   "metadata": {},
   "source": [
    "## 1.2 Arrays only | Subsetting by masking"
   ]
  },
  {
   "cell_type": "code",
   "execution_count": 13,
   "id": "4112b07f-686b-446c-a8f7-b853c59959c6",
   "metadata": {},
   "outputs": [
    {
     "data": {
      "text/plain": [
       "array([False, False, False,  True,  True,  True,  True,  True,  True,\n",
       "        True])"
      ]
     },
     "execution_count": 13,
     "metadata": {},
     "output_type": "execute_result"
    }
   ],
   "source": [
    "np_array = np.array([1, 2, 3, 4, 5, 6, 7, 8, 9, 10])\n",
    "my_mask = np_array > 3\n",
    "my_mask"
   ]
  },
  {
   "cell_type": "code",
   "execution_count": 14,
   "id": "ca7f6a89-f522-4900-a55b-0232a1251693",
   "metadata": {},
   "outputs": [
    {
     "data": {
      "text/plain": [
       "array([ 4,  5,  6,  7,  8,  9, 10])"
      ]
     },
     "execution_count": 14,
     "metadata": {},
     "output_type": "execute_result"
    }
   ],
   "source": [
    "np_array[my_mask]"
   ]
  },
  {
   "cell_type": "code",
   "execution_count": 17,
   "id": "5e1fcedf-1266-4fab-b322-867e54fecdab",
   "metadata": {},
   "outputs": [
    {
     "data": {
      "text/plain": [
       "array([ 4,  5,  6,  7,  8,  9, 10])"
      ]
     },
     "execution_count": 17,
     "metadata": {},
     "output_type": "execute_result"
    }
   ],
   "source": [
    "np_array[np_array > 3] #alternative method to show the True subset, without creating another variable"
   ]
  },
  {
   "cell_type": "code",
   "execution_count": 47,
   "id": "ac5ad3b3-ce21-4df5-abf6-396eb859e04c",
   "metadata": {},
   "outputs": [
    {
     "data": {
      "text/plain": [
       "array([1, 2, 3])"
      ]
     },
     "execution_count": 47,
     "metadata": {},
     "output_type": "execute_result"
    }
   ],
   "source": [
    "### example 1: Bitwise NOT operator\n",
    "\n",
    "np_array[~(np_array > 3)]  #'~' is the Bitwise Not operator. this statement stands for np_array NOT larger than 3"
   ]
  },
  {
   "cell_type": "code",
   "execution_count": 48,
   "id": "ce286c07-e2be-4aa7-9b68-5562977cbe76",
   "metadata": {},
   "outputs": [
    {
     "data": {
      "text/plain": [
       "array([4, 5, 6, 7])"
      ]
     },
     "execution_count": 48,
     "metadata": {},
     "output_type": "execute_result"
    }
   ],
   "source": [
    "### example 2: Bitwise AND operator\n",
    "\n",
    "np_array[(np_array > 3) & (np_array < 8)] # this is how we can combine one mask and another mask. '&' means 'AND'"
   ]
  },
  {
   "cell_type": "code",
   "execution_count": 49,
   "id": "72f473e7-754a-4e74-a501-cb166649b2cf",
   "metadata": {},
   "outputs": [
    {
     "data": {
      "text/plain": [
       "array([ 1,  2,  9, 10])"
      ]
     },
     "execution_count": 49,
     "metadata": {},
     "output_type": "execute_result"
    }
   ],
   "source": [
    "### example 3: Bitwise OR operator\n",
    "\n",
    "np_array[(np_array < 3) | (np_array > 8)] # combines the results of both masks, and gives the output for when either of them is true."
   ]
  },
  {
   "attachments": {},
   "cell_type": "markdown",
   "id": "9ab01add",
   "metadata": {},
   "source": [
    "## 1.3 Lists & Arrays in 2D | Indexing & Slicing"
   ]
  },
  {
   "cell_type": "code",
   "execution_count": 23,
   "id": "d4605f7b-3389-41dd-946d-7bd935a5b710",
   "metadata": {},
   "outputs": [],
   "source": [
    "py_list_2d = [[1, \"A\"],[2, \"B\"],[3, \"C\"],[4, \"D\"],[5, \"E\"],[6, \"F\"],[7, \"G\"],[8, \"H\"],[9, \"I\"],[10, \"J\"]]\n",
    "\n",
    "np_array_2d = np.array(py_list_2d)"
   ]
  },
  {
   "cell_type": "code",
   "execution_count": 50,
   "id": "aa375db4-ef15-4f6d-aa0a-53c6af73565e",
   "metadata": {},
   "outputs": [
    {
     "data": {
      "text/plain": [
       "[4, 'D']"
      ]
     },
     "execution_count": 50,
     "metadata": {},
     "output_type": "execute_result"
    }
   ],
   "source": [
    "### example 1.1\n",
    "\n",
    "py_list_2d[3]"
   ]
  },
  {
   "cell_type": "code",
   "execution_count": 51,
   "id": "7621c9e2-8456-4960-be42-920a00af6902",
   "metadata": {},
   "outputs": [
    {
     "data": {
      "text/plain": [
       "array(['4', 'D'], dtype='<U11')"
      ]
     },
     "execution_count": 51,
     "metadata": {},
     "output_type": "execute_result"
    }
   ],
   "source": [
    "### example 1.2\n",
    "\n",
    "np_array_2d[3]"
   ]
  },
  {
   "cell_type": "code",
   "execution_count": 27,
   "id": "310b9461-29ea-45ea-80eb-95a0178b631b",
   "metadata": {},
   "outputs": [
    {
     "data": {
      "text/plain": [
       "4"
      ]
     },
     "execution_count": 27,
     "metadata": {},
     "output_type": "execute_result"
    }
   ],
   "source": [
    "### example 2.1\n",
    "\n",
    "py_list_2d[3][0] #first element at position 4/index 3"
   ]
  },
  {
   "cell_type": "code",
   "execution_count": 52,
   "id": "fa2b6050-3dce-43c9-84db-d3583ba6eff1",
   "metadata": {},
   "outputs": [
    {
     "data": {
      "text/plain": [
       "'4'"
      ]
     },
     "execution_count": 52,
     "metadata": {},
     "output_type": "execute_result"
    }
   ],
   "source": [
    "### example 2.2\n",
    "\n",
    "np_array_2d[3,0]"
   ]
  },
  {
   "cell_type": "code",
   "execution_count": 53,
   "id": "e70a2c00-f080-4a64-8fbf-dd618f6d5e54",
   "metadata": {},
   "outputs": [
    {
     "data": {
      "text/plain": [
       "[[1, 'A'], [2, 'B'], [3, 'C']]"
      ]
     },
     "execution_count": 53,
     "metadata": {},
     "output_type": "execute_result"
    }
   ],
   "source": [
    "### example 3.1\n",
    "\n",
    "py_list_2d[:3]"
   ]
  },
  {
   "cell_type": "code",
   "execution_count": 54,
   "id": "08e9136e-b975-412e-bbd7-4f11ffd064a0",
   "metadata": {},
   "outputs": [
    {
     "data": {
      "text/plain": [
       "array([['1', 'A'],\n",
       "       ['2', 'B'],\n",
       "       ['3', 'C']], dtype='<U11')"
      ]
     },
     "execution_count": 54,
     "metadata": {},
     "output_type": "execute_result"
    }
   ],
   "source": [
    "### example 3.2\n",
    "\n",
    "np_array_2d[:3]"
   ]
  },
  {
   "cell_type": "code",
   "execution_count": 55,
   "id": "fa08364b-43d1-4a47-bfeb-2f6f5b4ac541",
   "metadata": {},
   "outputs": [
    {
     "data": {
      "text/plain": [
       "[1, 'A']"
      ]
     },
     "execution_count": 55,
     "metadata": {},
     "output_type": "execute_result"
    }
   ],
   "source": [
    "### example 4.1\n",
    "\n",
    "py_list_2d[:3][0] #special case. first elements of all sub-lists up to 2?"
   ]
  },
  {
   "cell_type": "code",
   "execution_count": 56,
   "id": "c52a3380-e809-40ff-883e-afd7bc2d0df4",
   "metadata": {},
   "outputs": [
    {
     "data": {
      "text/plain": [
       "array(['1', '2', '3'], dtype='<U11')"
      ]
     },
     "execution_count": 56,
     "metadata": {},
     "output_type": "execute_result"
    }
   ],
   "source": [
    "### example 4.2\n",
    "\n",
    "np_array_2d[:3,0]"
   ]
  },
  {
   "cell_type": "code",
   "execution_count": 57,
   "id": "50e48be1-467f-4a02-9cbb-b0736c57c892",
   "metadata": {},
   "outputs": [
    {
     "data": {
      "text/plain": [
       "[4, 'D']"
      ]
     },
     "execution_count": 57,
     "metadata": {},
     "output_type": "execute_result"
    }
   ],
   "source": [
    "### example 5.1\n",
    "\n",
    "py_list_2d[3:6][0]"
   ]
  },
  {
   "cell_type": "code",
   "execution_count": 58,
   "id": "31263f93-3ce2-4fe8-a56b-9a32386244c3",
   "metadata": {},
   "outputs": [
    {
     "data": {
      "text/plain": [
       "array(['4', '5', '6'], dtype='<U11')"
      ]
     },
     "execution_count": 58,
     "metadata": {},
     "output_type": "execute_result"
    }
   ],
   "source": [
    "### example 5.2\n",
    "\n",
    "np_array_2d[3:6, 0]"
   ]
  },
  {
   "cell_type": "code",
   "execution_count": 59,
   "id": "fcf23ecc-9c2c-4f5d-9448-84e17eaf669f",
   "metadata": {},
   "outputs": [
    {
     "data": {
      "text/plain": [
       "array(['1', '2', '3', '4', '5', '6', '7', '8', '9', '10'], dtype='<U11')"
      ]
     },
     "execution_count": 59,
     "metadata": {},
     "output_type": "execute_result"
    }
   ],
   "source": [
    "### example 5.3\n",
    "\n",
    "np_array_2d[:,0]"
   ]
  },
  {
   "cell_type": "code",
   "execution_count": 45,
   "id": "1f89a625-1b36-4318-94ed-6283c31f4cc7",
   "metadata": {},
   "outputs": [
    {
     "data": {
      "text/plain": [
       "array([ 1,  2,  3,  4,  5,  6,  7,  8,  9, 10])"
      ]
     },
     "execution_count": 45,
     "metadata": {},
     "output_type": "execute_result"
    }
   ],
   "source": [
    "np_array[:] #to choose everything in the array"
   ]
  },
  {
   "attachments": {},
   "cell_type": "markdown",
   "id": "d1b6af56",
   "metadata": {},
   "source": [
    "## 1.4 Growing lists"
   ]
  },
  {
   "cell_type": "code",
   "execution_count": 60,
   "id": "3c4a943b-9cab-45ab-86a1-3f770b7f9cfa",
   "metadata": {},
   "outputs": [
    {
     "data": {
      "text/plain": [
       "[1, 2, 1, 2, 1, 2, 1, 2, 1, 2]"
      ]
     },
     "execution_count": 60,
     "metadata": {},
     "output_type": "execute_result"
    }
   ],
   "source": [
    "x = [1,2]*5\n",
    "x"
   ]
  },
  {
   "cell_type": "code",
   "execution_count": 61,
   "id": "3a7fa6fb-ded0-4105-bd87-2738ed8731d7",
   "metadata": {},
   "outputs": [
    {
     "data": {
      "text/plain": [
       "[1, 2, 3, 4]"
      ]
     },
     "execution_count": 61,
     "metadata": {},
     "output_type": "execute_result"
    }
   ],
   "source": [
    "### example 1\n",
    "\n",
    "x=[1]\n",
    "x= x+[2]\n",
    "x= x+[3]\n",
    "x= x+[4]\n",
    "x"
   ]
  },
  {
   "cell_type": "code",
   "execution_count": 63,
   "id": "2ca7c673-d6fb-4f1d-969d-a63287765411",
   "metadata": {},
   "outputs": [
    {
     "data": {
      "text/plain": [
       "[1, 2, 3, 4]"
      ]
     },
     "execution_count": 63,
     "metadata": {},
     "output_type": "execute_result"
    }
   ],
   "source": [
    "### example 2\n",
    "\n",
    "x=[1]\n",
    "x+= [2]\n",
    "x+= [3]\n",
    "x+= [4]\n",
    "x"
   ]
  },
  {
   "cell_type": "code",
   "execution_count": 65,
   "id": "d78304af-98eb-40d6-a1b8-0054c15bbb94",
   "metadata": {},
   "outputs": [
    {
     "data": {
      "text/plain": [
       "[1, 2, 3, 4]"
      ]
     },
     "execution_count": 65,
     "metadata": {},
     "output_type": "execute_result"
    }
   ],
   "source": [
    "### example 3\n",
    "\n",
    "x=[1]\n",
    "x.append(2)\n",
    "x.append(3)\n",
    "x.append(4)\n",
    "x"
   ]
  },
  {
   "cell_type": "code",
   "execution_count": 66,
   "id": "49adc88e-115a-4ef9-9114-53b1673501f3",
   "metadata": {},
   "outputs": [
    {
     "data": {
      "text/plain": [
       "[1, 2, 3, 4, 5, 6]"
      ]
     },
     "execution_count": 66,
     "metadata": {},
     "output_type": "execute_result"
    }
   ],
   "source": [
    "## difference between extend and append\n",
    "\n",
    "x = [1, 2, 3]\n",
    "x += [4, 5, 6]\n",
    "x"
   ]
  },
  {
   "cell_type": "code",
   "execution_count": 67,
   "id": "c23833de-ed6d-4634-8cbd-ec93fc76b0a8",
   "metadata": {},
   "outputs": [
    {
     "data": {
      "text/plain": [
       "[1, 2, 3, [4, 5, 6]]"
      ]
     },
     "execution_count": 67,
     "metadata": {},
     "output_type": "execute_result"
    }
   ],
   "source": [
    "x.extend([4, 5, 6])\n",
    "x\n",
    "\n",
    "x=[1, 2, 3]\n",
    "x.append([4, 5, 6])\n",
    "x"
   ]
  },
  {
   "attachments": {},
   "cell_type": "markdown",
   "id": "f83f2575",
   "metadata": {},
   "source": [
    "# Some loose ends"
   ]
  },
  {
   "attachments": {},
   "cell_type": "markdown",
   "id": "2bbaec58",
   "metadata": {},
   "source": [
    "## 1.5 Tuples"
   ]
  },
  {
   "cell_type": "code",
   "execution_count": 68,
   "id": "c0d1501b-2ebe-4bfe-bc4e-5074cfb900f9",
   "metadata": {},
   "outputs": [],
   "source": [
    "a=(1, 2, 3) #define tuple"
   ]
  },
  {
   "cell_type": "code",
   "execution_count": 69,
   "id": "db516023-0840-4d70-8aa4-726bb46b9b3f",
   "metadata": {},
   "outputs": [
    {
     "name": "stdout",
     "output_type": "stream",
     "text": [
      "1\n"
     ]
    }
   ],
   "source": [
    "print(a[0]) #accessing data of a tuple"
   ]
  },
  {
   "cell_type": "code",
   "execution_count": 70,
   "id": "34213e14-cc67-4b33-ae80-7278a1648b65",
   "metadata": {},
   "outputs": [
    {
     "ename": "TypeError",
     "evalue": "'tuple' object does not support item assignment",
     "output_type": "error",
     "traceback": [
      "\u001b[1;31m---------------------------------------------------------------------------\u001b[0m",
      "\u001b[1;31mTypeError\u001b[0m                                 Traceback (most recent call last)",
      "Cell \u001b[1;32mIn[70], line 1\u001b[0m\n\u001b[1;32m----> 1\u001b[0m \u001b[43ma\u001b[49m\u001b[43m[\u001b[49m\u001b[38;5;241;43m0\u001b[39;49m\u001b[43m]\u001b[49m \u001b[38;5;241m=\u001b[39m \u001b[38;5;241m-\u001b[39m\u001b[38;5;241m1\u001b[39m\n\u001b[0;32m      2\u001b[0m a[\u001b[38;5;241m0\u001b[39m] \u001b[38;5;241m+\u001b[39m\u001b[38;5;241m=\u001b[39m [\u001b[38;5;241m10\u001b[39m]\n",
      "\u001b[1;31mTypeError\u001b[0m: 'tuple' object does not support item assignment"
     ]
    }
   ],
   "source": [
    "a[0] = -1\n",
    "a[0] += [10]"
   ]
  },
  {
   "attachments": {},
   "cell_type": "markdown",
   "id": "5200730c",
   "metadata": {},
   "source": [
    "## 1.6 Be VERY careful when copying"
   ]
  },
  {
   "cell_type": "code",
   "execution_count": 74,
   "id": "40a9e5ad-7d72-4e67-856d-be0406c273c4",
   "metadata": {},
   "outputs": [
    {
     "data": {
      "text/plain": [
       "[1, 2, 3]"
      ]
     },
     "execution_count": 74,
     "metadata": {},
     "output_type": "execute_result"
    }
   ],
   "source": [
    "x=[1, 2, 3]\n",
    "y=x #WRONG way to copy a list\n",
    "z=x\n",
    "\n",
    "y"
   ]
  },
  {
   "cell_type": "code",
   "execution_count": 75,
   "id": "24e61246-afd9-499e-a8d4-5e848b2bd909",
   "metadata": {},
   "outputs": [
    {
     "data": {
      "text/plain": [
       "[1, 2, 3]"
      ]
     },
     "execution_count": 75,
     "metadata": {},
     "output_type": "execute_result"
    }
   ],
   "source": [
    "x=[1,2, 3]\n",
    "y=x.copy()\n",
    "z=x.copy()\n",
    "\n",
    "z"
   ]
  },
  {
   "attachments": {},
   "cell_type": "markdown",
   "id": "0860b186",
   "metadata": {},
   "source": [
    "## Footnotes"
   ]
  }
 ],
 "metadata": {
  "kernelspec": {
   "display_name": "Python 3 (ipykernel)",
   "language": "python",
   "name": "python3"
  },
  "language_info": {
   "codemirror_mode": {
    "name": "ipython",
    "version": 3
   },
   "file_extension": ".py",
   "mimetype": "text/x-python",
   "name": "python",
   "nbconvert_exporter": "python",
   "pygments_lexer": "ipython3",
   "version": "3.9.19"
  },
  "toc": {
   "base_numbering": 1,
   "nav_menu": {},
   "number_sections": true,
   "sideBar": true,
   "skip_h1_title": false,
   "title_cell": "Table of Contents",
   "title_sidebar": "Contents",
   "toc_cell": false,
   "toc_position": {},
   "toc_section_display": true,
   "toc_window_display": false
  },
  "vscode": {
   "interpreter": {
    "hash": "31f2aee4e71d21fbe5cf8b01ff0e069b9275f58929596ceb00d14d90e3e16cd6"
   }
  }
 },
 "nbformat": 4,
 "nbformat_minor": 5
}
