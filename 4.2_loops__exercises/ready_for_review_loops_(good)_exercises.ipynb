{
 "cells": [
  {
   "attachments": {},
   "cell_type": "markdown",
   "id": "123456",
   "metadata": {},
   "source": [
    "<div style=\"text-align:left;font-size:2em\"><span style=\"font-weight:bolder;font-size:1.25em\">SP2273 | Learning Portfolio</span><br><br><span style=\"font-weight:bold;color:darkred\">Loops (Good) Exercises</span></div>"
   ]
  },
  {
   "cell_type": "markdown",
   "id": "9703153d-d979-4581-84c2-25102aa9d25b",
   "metadata": {},
   "source": [
    "## Exercise 1 (Make me an odd list)"
   ]
  },
  {
   "cell_type": "code",
   "execution_count": 4,
   "id": "67e1c412-623e-4f56-ac89-487b956f10fb",
   "metadata": {},
   "outputs": [
    {
     "name": "stdout",
     "output_type": "stream",
     "text": [
      "1\n",
      "9\n",
      "25\n",
      "49\n",
      "81\n"
     ]
    }
   ],
   "source": [
    "for number in range(10):\n",
    "    if number % 2 == 0:\n",
    "        continue #continue means to skip and move on to the next\n",
    "    number = number**2 #take note of indentation!! in order to apply the for loop to this list, must have a tab spacing\n",
    "    print(number)"
   ]
  },
  {
   "cell_type": "markdown",
   "id": "af756bbc-b382-49ae-b171-1456fa8d1925",
   "metadata": {},
   "source": [
    "## Exercise 2 (Make me another odd list) "
   ]
  },
  {
   "cell_type": "code",
   "execution_count": 5,
   "id": "db5cab94-5f93-462d-88f1-9ff5a55a7f1d",
   "metadata": {},
   "outputs": [
    {
     "data": {
      "text/plain": [
       "[1, 9, 25, 49, 81]"
      ]
     },
     "execution_count": 5,
     "metadata": {},
     "output_type": "execute_result"
    }
   ],
   "source": [
    "[value**2 for value in range(10) if value % 2 != 0] # != filters out only the odd numbers"
   ]
  },
  {
   "cell_type": "markdown",
   "id": "a87157a2-7701-4a9a-9eef-2d36645d6f5e",
   "metadata": {},
   "source": [
    "## Exercise 3 (Time me!)"
   ]
  },
  {
   "cell_type": "code",
   "execution_count": 6,
   "id": "fe735798-c356-4c24-b7c0-2754125d34be",
   "metadata": {},
   "outputs": [
    {
     "name": "stdout",
     "output_type": "stream",
     "text": [
      "2.65 µs ± 187 ns per loop (mean ± std. dev. of 7 runs, 100,000 loops each)\n"
     ]
    }
   ],
   "source": [
    "%%timeit\n",
    "for number in range(10):\n",
    "    if number % 2 == 0:\n",
    "        continue\n",
    "    number = number**2 #removed print function otherwise the %%timeit command will loop excessively"
   ]
  },
  {
   "cell_type": "code",
   "execution_count": 7,
   "id": "4a7da536-9ee0-4032-9168-384d59e67eb6",
   "metadata": {},
   "outputs": [
    {
     "name": "stdout",
     "output_type": "stream",
     "text": [
      "2.74 µs ± 89.6 ns per loop (mean ± std. dev. of 7 runs, 100,000 loops each)\n"
     ]
    }
   ],
   "source": [
    "%%timeit\n",
    "[value**2 for value in range(10) if value % 2 != 0]"
   ]
  },
  {
   "cell_type": "markdown",
   "id": "0d86e5d7-dda8-4b7a-89d1-a48e457b1e15",
   "metadata": {},
   "source": [
    "The second method using list comprehension is faster."
   ]
  },
  {
   "cell_type": "markdown",
   "id": "8c06d4f1-6e72-40bf-8492-831b194d05cc",
   "metadata": {},
   "source": [
    "## Exercise 4 (A problem of decay) "
   ]
  },
  {
   "cell_type": "code",
   "execution_count": 38,
   "id": "375f2b9e-8369-463e-bef4-30f38f22d14e",
   "metadata": {},
   "outputs": [
    {
     "name": "stdout",
     "output_type": "stream",
     "text": [
      "Year 0          100.00 units\n",
      "Year 1           95.00 units\n",
      "Year 2           90.25 units\n",
      "Year 3           85.74 units\n",
      "Year 4           81.45 units\n",
      "Year 5           77.38 units\n",
      "Year 6           73.51 units\n",
      "Year 7           69.83 units\n",
      "Year 8           66.34 units\n",
      "Year 9           63.02 units\n",
      "Year 10           59.87 units\n",
      "Year 11           56.88 units\n",
      "Year 12           54.04 units\n",
      "Year 13           51.33 units\n",
      "It will take 14 years for the sample to reduce to half its original amount.\n"
     ]
    }
   ],
   "source": [
    "number=100\n",
    "years=0\n",
    "\n",
    "while number:\n",
    "    print(f'Year {years} {number:>15.2f} units')\n",
    "    number *= 0.95\n",
    "    years += 1\n",
    "    if number < 50: break\n",
    "\n",
    "print(f'It will take {years} years for the sample to reduce to half its original amount.')"
   ]
  },
  {
   "cell_type": "markdown",
   "id": "15a89416-9d29-4c14-8fdc-3c85dc96b98c",
   "metadata": {},
   "source": [
    "## Exercise 5 (Changes in CO)"
   ]
  },
  {
   "cell_type": "code",
   "execution_count": 23,
   "id": "df4383c3-265e-463a-9c39-143f2970333e",
   "metadata": {},
   "outputs": [
    {
     "name": "stdout",
     "output_type": "stream",
     "text": [
      "Year: 2016; change in concentration from previous year: +3.41ppm\n"
     ]
    }
   ],
   "source": [
    "py_list_2d = [[2000, 369.55], [2001, 371.14], [2002, 373.28], [2003, 375.8], [2004, 377.52],\n",
    "              [2005, 379.8], [2006, 381.9], [2007, 383.79], [2008, 385.6], [2009, 387.43],\n",
    "              [2010, 389.9], [2011, 391.65], [2012, 393.85], [2013, 396.52], [2014, 398.65],\n",
    "              [2015, 400.83], [2016, 404.24], [2017, 406.55], [2018, 408.52], [2019, 411.44],\n",
    "              [2020, 414.24]]\n",
    "\n",
    "import numpy as np\n",
    "\n",
    "N = 20 #N is number of iterations (difference of concentration x20)\n",
    "\n",
    "np_array_2d = np.array(py_list_2d) #create numpy array from 2D list\n",
    "\n",
    "for i in range(N): #create a loop to assign value to each element i in the array\n",
    "    diff = np_array_2d[i+1,1] - np_array_2d[i,1] #i indicates the respective concentration values in the array\n",
    "    if diff > 3 :\n",
    "        #print(f'{np_array_2d[i+1,0]}, {np_array_2d[i+1,1]}, {diff}') #checking to see if code works. print(year, concentration of co2 in that year, change in conc. from the previous year)\n",
    "        print(f'Year: {int(np_array_2d[i+1,0])}; change in concentration from previous year: +{diff:.2f}ppm')"
   ]
  }
 ],
 "metadata": {
  "kernelspec": {
   "display_name": "Python 3 (ipykernel)",
   "language": "python",
   "name": "python3"
  },
  "language_info": {
   "codemirror_mode": {
    "name": "ipython",
    "version": 3
   },
   "file_extension": ".py",
   "mimetype": "text/x-python",
   "name": "python",
   "nbconvert_exporter": "python",
   "pygments_lexer": "ipython3",
   "version": "3.9.19"
  },
  "toc": {
   "base_numbering": 1,
   "nav_menu": {},
   "number_sections": true,
   "sideBar": true,
   "skip_h1_title": false,
   "title_cell": "Table of Contents",
   "title_sidebar": "Contents",
   "toc_cell": false,
   "toc_position": {},
   "toc_section_display": true,
   "toc_window_display": false
  },
  "vscode": {
   "interpreter": {
    "hash": "31f2aee4e71d21fbe5cf8b01ff0e069b9275f58929596ceb00d14d90e3e16cd6"
   }
  }
 },
 "nbformat": 4,
 "nbformat_minor": 5
}
