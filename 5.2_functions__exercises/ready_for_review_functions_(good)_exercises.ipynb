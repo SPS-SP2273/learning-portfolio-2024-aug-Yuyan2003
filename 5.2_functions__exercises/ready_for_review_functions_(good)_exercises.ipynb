{
 "cells": [
  {
   "attachments": {},
   "cell_type": "markdown",
   "id": "123456",
   "metadata": {},
   "source": [
    "<div style=\"text-align:left;font-size:2em\"><span style=\"font-weight:bolder;font-size:1.25em\">SP2273 | Learning Portfolio</span><br><br><span style=\"font-weight:bold;color:darkred\">Functions (Good) Exercises</span></div>"
   ]
  },
  {
   "cell_type": "markdown",
   "id": "0e19e6a8-40a1-4153-bb7f-e4a8b69a01b2",
   "metadata": {},
   "source": [
    "## Exercise 1 (Celsius to Fahrenheit or Kelvin) "
   ]
  },
  {
   "cell_type": "code",
   "execution_count": 1,
   "id": "ba3215ac-b38d-44db-8e50-755ca78562df",
   "metadata": {},
   "outputs": [
    {
     "name": "stdout",
     "output_type": "stream",
     "text": [
      "298.1 °K\n",
      "77.0 °F\n"
     ]
    }
   ],
   "source": [
    "#convert celsius to kelvin or farenheit\n",
    "\n",
    "def convert_celsius(temperature_celsius, target_scale='Farenheit'):\n",
    "    if target_scale == 'Kelvin':\n",
    "        return print(f'{temperature_celsius + 273.15 :.1f} \\N{degree sign}K')\n",
    "    else:\n",
    "        return print(f'{(temperature_celsius * 9/5) + 32 :.1f} \\N{degree sign}F')\n",
    "\n",
    "convert_celsius(25, 'Kelvin')\n",
    "convert_celsius(25, 'Farenheit')"
   ]
  },
  {
   "cell_type": "markdown",
   "id": "d8de40fe-8ef9-480d-aaeb-f1fe05cef9b8",
   "metadata": {},
   "source": [
    "## Exercise 2 (Fahrenheit to Celsius or Kelvin)"
   ]
  },
  {
   "cell_type": "code",
   "execution_count": 2,
   "id": "9ce6cac6-ff15-4b1a-bc69-f54709fdb411",
   "metadata": {},
   "outputs": [
    {
     "name": "stdout",
     "output_type": "stream",
     "text": [
      "-3.9 °C\n",
      "269.3 °K\n"
     ]
    }
   ],
   "source": [
    "#convert farenheit to celsius or kelvin\n",
    "\n",
    "def convert_fahrenheit(temperature_fahrenheit, target_scale='Celsius'):\n",
    "    if target_scale == 'Celsius':\n",
    "        return print(f'{(temperature_fahrenheit - 32)/1.8 :.1f} \\N{degree sign}C')\n",
    "    else:\n",
    "        return print(f'{((temperature_fahrenheit - 32)/1.8) + 273.15 :.1f} \\N{degree sign}K')\n",
    "\n",
    "convert_fahrenheit(25, 'Celsius')\n",
    "convert_fahrenheit(25, 'Kelvin')"
   ]
  },
  {
   "cell_type": "markdown",
   "id": "1178a7d6-a1b7-4afd-9a6b-b0c674e95a2a",
   "metadata": {},
   "source": [
    "## Exercise 3 (General Temperature Conversion) "
   ]
  },
  {
   "cell_type": "code",
   "execution_count": 3,
   "id": "a2a43072-5912-4b07-b56b-b5317c90c088",
   "metadata": {},
   "outputs": [
    {
     "name": "stdout",
     "output_type": "stream",
     "text": [
      "-273.1 °C\n",
      "-491.7 °F\n"
     ]
    }
   ],
   "source": [
    "#convert kelvin to celsius or farenheit\n",
    "\n",
    "def convert_kelvin(temperature_kelvin, target_scale='Celsius'):\n",
    "    if target_scale == 'Celsius':\n",
    "        return print(f'{temperature_kelvin - 273.15 :.1f} \\N{degree sign}C')\n",
    "    else:\n",
    "        return print(f'{(temperature_kelvin - 273.15)* 9/5 :.1f} \\N{degree sign}F')\n",
    "\n",
    "convert_kelvin(0, 'Celsius')\n",
    "convert_kelvin(0, 'Farenheit')"
   ]
  },
  {
   "cell_type": "code",
   "execution_count": 4,
   "id": "4931d6a2-5645-492d-b7f7-8c2e70bb5a89",
   "metadata": {},
   "outputs": [
    {
     "name": "stdout",
     "output_type": "stream",
     "text": [
      "298.1 °K\n"
     ]
    }
   ],
   "source": [
    "def convert_temperature(temperature, source_scale, target_scale):\n",
    "    if source_scale == 'Celsius':\n",
    "        return convert_celsius(temperature, target_scale)\n",
    "    elif source_scale == 'Kelvin':\n",
    "        return convert_kelvin(temperature, target_scale)\n",
    "    elif source_scale == 'Farenheit':\n",
    "        return convert_fahrenheit(temperature, target_scale)\n",
    "    else:\n",
    "        return print(\"error\")\n",
    "\n",
    "convert_temperature(25, 'Celsius', 'Kelvin')"
   ]
  }
 ],
 "metadata": {
  "kernelspec": {
   "display_name": "Python 3 (ipykernel)",
   "language": "python",
   "name": "python3"
  },
  "language_info": {
   "codemirror_mode": {
    "name": "ipython",
    "version": 3
   },
   "file_extension": ".py",
   "mimetype": "text/x-python",
   "name": "python",
   "nbconvert_exporter": "python",
   "pygments_lexer": "ipython3",
   "version": "3.9.19"
  },
  "toc": {
   "base_numbering": 1,
   "nav_menu": {},
   "number_sections": true,
   "sideBar": true,
   "skip_h1_title": false,
   "title_cell": "Table of Contents",
   "title_sidebar": "Contents",
   "toc_cell": false,
   "toc_position": {},
   "toc_section_display": true,
   "toc_window_display": false
  },
  "vscode": {
   "interpreter": {
    "hash": "31f2aee4e71d21fbe5cf8b01ff0e069b9275f58929596ceb00d14d90e3e16cd6"
   }
  }
 },
 "nbformat": 4,
 "nbformat_minor": 5
}
