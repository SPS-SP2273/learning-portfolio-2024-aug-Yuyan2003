{
 "cells": [
  {
   "attachments": {},
   "cell_type": "markdown",
   "id": "123456",
   "metadata": {},
   "source": [
    "<div style=\"text-align:left;font-size:2em\"><span style=\"font-weight:bolder;font-size:1.25em\">SP2273 | Learning Portfolio</span><br><br><span style=\"font-weight:bold;color:darkred\">Using Jupyter (Need), Exercises</span></div>"
   ]
  },
  {
   "attachments": {},
   "cell_type": "markdown",
   "id": "fbb0d9c2",
   "metadata": {},
   "source": [
    "## 1 Quadratic Equations"
   ]
  },
  {
   "attachments": {},
   "cell_type": "markdown",
   "id": "e5dda635",
   "metadata": {},
   "source": [
    "### Introduction"
   ]
  },
  {
   "cell_type": "markdown",
   "id": "85409147-6c6a-4732-a6ea-1dc8a1a8821c",
   "metadata": {},
   "source": [
    "![](https://upload.wikimedia.org/wikipedia/commons/thumb/f/f8/Polynomialdeg2.svg/300px-Polynomialdeg2.svg.png)\n",
    "\n",
    "*(Image from the <ins>[Wikipedia page on Quadratic equations](https://en.wikipedia.org/wiki/Quadratic_equation))</ins>*\n",
    "\n",
    "The general form of a quadratic equation is:\n",
    "\r",
    "$$ ax^2 + bx + c = 0 $$\n",
    "\r\n",
    "\n"
   ]
  },
  {
   "attachments": {},
   "cell_type": "markdown",
   "id": "cc8303de",
   "metadata": {},
   "source": [
    "### Solutions"
   ]
  },
  {
   "cell_type": "markdown",
   "id": "ae799996-be77-4e9a-bef6-7b9ad651d191",
   "metadata": {},
   "source": [
    "Provided $a \\ne 0 $, we can use an elementary algebraic method called <ins>[completing the square](https://en.wikipedia.org/wiki/Completing_the_square)</ins> to show that a quadratic equation has the following solution:\n",
    "$$\n",
    "x = \\dfrac{-b \\pm \\sqrt{b^2-4ac}}{2a} \n",
    "$$"
   ]
  },
  {
   "attachments": {},
   "cell_type": "markdown",
   "id": "332e86c6",
   "metadata": {},
   "source": [
    "### Discriminant"
   ]
  },
  {
   "cell_type": "markdown",
   "id": "e2abd601-fea8-4554-b555-5c2fa1ff3fb5",
   "metadata": {},
   "source": [
    "The quantity $ \\Delta = b^2-4ac $ is called the **discriminant** of the equation and decides the nature of its solutions. The table below shows the various possibilities.\n",
    "| Discriminant                   | Roots                                |\n",
    "| :----:                         | :----                                |\n",
    "| $ \\Delta = b^2-4ac = 0 $             | A single solution of $ -b/(2a) $     |\n",
    "| $ \\Delta = b^2-4ac > 0 $             | Two distinct solutions                |\n",
    "| $ \\Delta = b^2-4ac < 0 $             | No real solutions; both are complex.  |\n"
   ]
  },
  {
   "attachments": {},
   "cell_type": "markdown",
   "id": "a57a89f1-1ca5-4a88-8eae-2f9211271c3d",
   "metadata": {},
   "source": [
    "## Exercise 2 (In Your Own Words)"
   ]
  },
  {
   "cell_type": "markdown",
   "id": "de2ef58c-6af1-4343-b38e-6e3314eb6804",
   "metadata": {},
   "source": [
    "1. What is a Git **repository**?\n",
    "A Git repository is a storage space where your project’s files, along with the entire history of changes, are kept. It allows you to track changes, collaborate with others, and manage different versions of your project over time.\n",
    "\n",
    "3. Git keeps track of <ins>*the changes to the codes*</ins> in the files in our repository.\n",
    "\r",
    "4. What is a **commit**?\n",
    "Commit is an action that records changes made to the files in our repository. When we commit, we are saving a snapshot of the current state of our files to our local device along with a descriptive message. This message helps ourselves and others understand what changes were made and why. This way. we can easily see how our repository has changed or evolved over time. Each commit is like a checkpoint in the project’s history that we can return to if needed.\n",
    "\n",
    "5. What is a **push**?\n",
    "Push is an action that uploads the commits from our local repository to the cloud server. It allows anyone who is sharing the same repository to be able to view these changes.\n",
    "\n",
    "6. What is a **pull**?\n",
    "Pull is an action that downloads the latest changes from a remote repository in the cloud server (made by someone else sharing the repository) to our local repository. If others have made changes to the project, pulling ensures that our local copy is up-to-date with those changes. A pull fetches the changes and merges them into our local branch.\n",
    "\n",
    "7. What is the difference between **GitHub** and **GitHub Desktop**?\n",
    "GitHub is a web-based platform that hosts Git repositories. It allows you to manage your projects, collaborate with others, review code, and handle issues and pull requests—all through an online platform. GitHub Desktop is a graphical user interface (GUI) application that runs on a local computer. It allows one to interact with his Git repositories without using the command line, making it easier to perform Git actions like committing, pushing, pulling, and branching with a visual interface."
   ]
  },
  {
   "attachments": {},
   "cell_type": "markdown",
   "id": "6f83c008-8b02-428c-84f4-7d2c79a7ad3e",
   "metadata": {},
   "source": [
    "## Exercise 3 (A Matter of Statistics) "
   ]
  },
  {
   "cell_type": "markdown",
   "id": "616fa901-3de2-4bdd-9ed2-24e70935f730",
   "metadata": {},
   "source": [
    "The mean ($\\mu$), standard deviation ($\\sigma$), and Pearson correlation coefficient ($r$) are important statistical parameters. Given variables $x_{i}$ and $y_{i}$ representing the $i$-th values in a dataset with $n$ pairs, use Markdown notation to write the equations for these parameters.\n",
    "\n",
    "Your equations should ideally look like the following. You might find <ins>[this resource](https://www.cmor-faculty.rice.edu/~heinken/latex/symbols.pdf)</ins> from Rice University useful.\r\n",
    "$$\n",
    "\\mu =\\dfrac{1}{n}\\sum_{i=1}^{n} x_i \n",
    "$$\n",
    "\n",
    "$$\n",
    "\\sigma =\\sqrt{\\dfrac{1}{n}\\sum_{i=1}^{n} (x_i - \\mu)^2} \n",
    "$$\n",
    "\n",
    "$$\n",
    "r =\\dfrac{\\sum_{i=1}^{n} (x_i - \\mu_X)(y_i - \\mu_Y)}{ \\sqrt{{\\sum_{i=1}^{n} (x_i - \\mu_X)^2}{\\sum_{i=1}^{n} (y_i - \\mu_Y)^2}} } \n",
    "$$\r\n"
   ]
  }
 ],
 "metadata": {
  "kernelspec": {
   "display_name": "Python 3 (ipykernel)",
   "language": "python",
   "name": "python3"
  },
  "language_info": {
   "codemirror_mode": {
    "name": "ipython",
    "version": 3
   },
   "file_extension": ".py",
   "mimetype": "text/x-python",
   "name": "python",
   "nbconvert_exporter": "python",
   "pygments_lexer": "ipython3",
   "version": "3.9.19"
  },
  "toc": {
   "base_numbering": 1,
   "nav_menu": {},
   "number_sections": true,
   "sideBar": true,
   "skip_h1_title": false,
   "title_cell": "Table of Contents",
   "title_sidebar": "Contents",
   "toc_cell": false,
   "toc_position": {},
   "toc_section_display": true,
   "toc_window_display": false
  },
  "vscode": {
   "interpreter": {
    "hash": "31f2aee4e71d21fbe5cf8b01ff0e069b9275f58929596ceb00d14d90e3e16cd6"
   }
  }
 },
 "nbformat": 4,
 "nbformat_minor": 5
}
