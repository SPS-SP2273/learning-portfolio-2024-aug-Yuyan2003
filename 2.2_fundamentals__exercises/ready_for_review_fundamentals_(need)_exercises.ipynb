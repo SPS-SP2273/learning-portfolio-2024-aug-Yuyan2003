{
 "cells": [
  {
   "attachments": {},
   "cell_type": "markdown",
   "id": "123456",
   "metadata": {},
   "source": [
    "<div style=\"text-align:left;font-size:2em\"><span style=\"font-weight:bolder;font-size:1.25em\">SP2273 | Learning Portfolio</span><br><br><span style=\"font-weight:bold;color:darkred\">Fundamentals (Need) Exercises</span></div>"
   ]
  },
  {
   "cell_type": "markdown",
   "id": "73a4e7c2-c61c-48b2-8e83-59be3ba3f7ff",
   "metadata": {},
   "source": [
    "## Exercise 1: Recall basic python features"
   ]
  },
  {
   "cell_type": "markdown",
   "id": "012411a8-8116-48b2-88e2-7a5ca02dd9b3",
   "metadata": {},
   "source": [
    "1. print\n",
    "2. _if else_\n",
    "3. _elif_\n",
    "4. brackets\n",
    "5. asking questions\n",
    "6. _sqrt_ function\n",
    "7. _split_\n",
    "8. f string\n",
    "9. _classification of different data types, eg. floats, integers, complex numbers, f string_\n",
    "10. typecasting of a data format\n",
    "11. indentation, alignment\n",
    "12. importing additional packages\n",
    "13. escape sequences\n",
    "14. using = to define a variable and == to check the value of a variable"
   ]
  },
  {
   "cell_type": "markdown",
   "id": "582548c1-688d-4290-a201-ccabba161b1d",
   "metadata": {},
   "source": [
    "## Exercise 2 (Debug me)"
   ]
  },
  {
   "cell_type": "code",
   "execution_count": 16,
   "id": "2e4e49ce-7a4e-481a-91bf-551f895e8744",
   "metadata": {},
   "outputs": [
    {
     "ename": "IndentationError",
     "evalue": "unindent does not match any outer indentation level (<tokenize>, line 5)",
     "output_type": "error",
     "traceback": [
      "\u001b[1;36m  File \u001b[1;32m<tokenize>:5\u001b[1;36m\u001b[0m\n\u001b[1;33m    Print(x, y, z)\u001b[0m\n\u001b[1;37m    ^\u001b[0m\n\u001b[1;31mIndentationError\u001b[0m\u001b[1;31m:\u001b[0m unindent does not match any outer indentation level\n"
     ]
    }
   ],
   "source": [
    "#error version:\n",
    "\n",
    "x, y = 3, 4\n",
    "        z = sqrt(x*2 + y**2)\n",
    "    Print(x, y, z)"
   ]
  },
  {
   "cell_type": "code",
   "execution_count": 26,
   "id": "fed7ac2f-47c1-40a9-a22b-cac08c0962de",
   "metadata": {},
   "outputs": [
    {
     "name": "stdout",
     "output_type": "stream",
     "text": [
      "3 4 5.0\n"
     ]
    }
   ],
   "source": [
    "#debugged version:\n",
    "\n",
    "import numpy as np\n",
    "\n",
    "x, y = 3, 4\n",
    "z = np.sqrt(x**2 + y**2)\n",
    "\n",
    "print(x, y, z)"
   ]
  },
  {
   "cell_type": "markdown",
   "id": "7783bacf-7952-494d-9e9e-a9e41bd38679",
   "metadata": {},
   "source": [
    "## Exercise 3 (In your own words) "
   ]
  },
  {
   "cell_type": "markdown",
   "id": "8a9dfb28-b78a-4e69-952b-c5871bbdb8e7",
   "metadata": {},
   "source": [
    "| #       | Term     |    Description      |\n",
    "| :---:   | :---     |   :----------:      |\n",
    "|    1    | Function |    A function executes a specific task in Python, such as printing arguments.       |\n",
    "|    2    | Arguments|    A value that is passed to a function when it is called, usually enclosed in brackets following a function.                 |\n",
    "|     3   | Comments |    Using a #, one can add additional information without confusing Python that it is a code as Python would ignore everything after a #. |\n",
    "|     4   | Indentations|    The use of spacing for various functions, such as the else-if function, and for formatting.              |\n",
    "|     5   | Packages |    Import packages like math and numpy to enhance Python's mathematical powers.                 |\n",
    "|     6   | .        |  The dot indicates ownership; the function that comes after the dot belongs to the whatever is in front of it.         |\n",
    "|     7   | :        |  Used to designate a block of code.        |\n",
    "|     8   | []       |   For defining a 1D list.               |\n",
    "|     9   | [[],[]]  |   For defining a 2D list.               |\n",
    "|     10   | {}      |   These braces have multiple uses, such as to store data in a dictionary, and to write the expression in a f-string statement.   |"
   ]
  },
  {
   "cell_type": "markdown",
   "id": "96ef6c3c-ced2-4fca-9f79-1681120dce21",
   "metadata": {},
   "source": [
    "## Exercise 4 (More than one way to divide)"
   ]
  },
  {
   "cell_type": "code",
   "execution_count": 31,
   "id": "16c31318-c4bc-468a-a8ea-df17aefd13d4",
   "metadata": {},
   "outputs": [
    {
     "data": {
      "text/plain": [
       "2.5"
      ]
     },
     "execution_count": 31,
     "metadata": {},
     "output_type": "execute_result"
    }
   ],
   "source": [
    "x = 5/2 #divides 5 by 2, in the normal mathematical way\n",
    "x"
   ]
  },
  {
   "cell_type": "code",
   "execution_count": 43,
   "id": "be8be853-96e1-4cd0-93be-a269e9b5d670",
   "metadata": {},
   "outputs": [
    {
     "data": {
      "text/plain": [
       "2"
      ]
     },
     "execution_count": 43,
     "metadata": {},
     "output_type": "execute_result"
    }
   ],
   "source": [
    "x = 5//2 #divides 5 by 2, then rounds off final value to the nearest integer \n",
    "x"
   ]
  },
  {
   "cell_type": "code",
   "execution_count": 44,
   "id": "e670bb5f-faaa-4a61-9508-b63491ed5a6f",
   "metadata": {},
   "outputs": [
    {
     "data": {
      "text/plain": [
       "1"
      ]
     },
     "execution_count": 44,
     "metadata": {},
     "output_type": "execute_result"
    }
   ],
   "source": [
    "x = 5%2 #gives the remainder of 5 divide by 2 as the output\n",
    "x"
   ]
  }
 ],
 "metadata": {
  "kernelspec": {
   "display_name": "Python 3 (ipykernel)",
   "language": "python",
   "name": "python3"
  },
  "language_info": {
   "codemirror_mode": {
    "name": "ipython",
    "version": 3
   },
   "file_extension": ".py",
   "mimetype": "text/x-python",
   "name": "python",
   "nbconvert_exporter": "python",
   "pygments_lexer": "ipython3",
   "version": "3.9.19"
  },
  "toc": {
   "base_numbering": 1,
   "nav_menu": {},
   "number_sections": true,
   "sideBar": true,
   "skip_h1_title": false,
   "title_cell": "Table of Contents",
   "title_sidebar": "Contents",
   "toc_cell": false,
   "toc_position": {},
   "toc_section_display": true,
   "toc_window_display": false
  },
  "vscode": {
   "interpreter": {
    "hash": "31f2aee4e71d21fbe5cf8b01ff0e069b9275f58929596ceb00d14d90e3e16cd6"
   }
  }
 },
 "nbformat": 4,
 "nbformat_minor": 5
}
