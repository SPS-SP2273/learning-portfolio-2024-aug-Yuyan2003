{
 "cells": [
  {
   "attachments": {},
   "cell_type": "markdown",
   "id": "123456",
   "metadata": {},
   "source": [
    "<div style=\"text-align:left;font-size:2em\"><span style=\"font-weight:bolder;font-size:1.25em\">SP2273 | Learning Portfolio</span><br><br><span style=\"font-weight:bold;color:darkred\">Loops (Good) Exercises</span></div>"
   ]
  },
  {
   "cell_type": "markdown",
   "id": "9703153d-d979-4581-84c2-25102aa9d25b",
   "metadata": {},
   "source": [
    "## Exercise 1 (Make me an odd list)"
   ]
  },
  {
   "cell_type": "code",
   "execution_count": 19,
   "id": "cbd6d1dd-7447-4845-931a-1e66a621e683",
   "metadata": {},
   "outputs": [
    {
     "name": "stdout",
     "output_type": "stream",
     "text": [
      "1\n",
      "9\n",
      "25\n",
      "49\n"
     ]
    }
   ],
   "source": [
    "for number in range(9):\n",
    "    if number % 2 == 0:\n",
    "        continue #continue means to skip and move on to the next\n",
    "    number = number**2\n",
    "    print(number)"
   ]
  },
  {
   "cell_type": "code",
   "execution_count": 11,
   "id": "67e1c412-623e-4f56-ac89-487b956f10fb",
   "metadata": {},
   "outputs": [
    {
     "name": "stdout",
     "output_type": "stream",
     "text": [
      "64\n"
     ]
    }
   ],
   "source": [
    "for number in range(9):\n",
    "    if number % 2 == 0:\n",
    "        continue\n",
    "number = number**2 #take note of indentation!! in order to apply the for loop to this list, must have a tab spacing\n",
    "print(number) #Qn: where did the number 8 come from???"
   ]
  },
  {
   "cell_type": "markdown",
   "id": "af756bbc-b382-49ae-b171-1456fa8d1925",
   "metadata": {},
   "source": [
    "## Exercise 2 (Make me another odd list) "
   ]
  },
  {
   "cell_type": "code",
   "execution_count": 32,
   "id": "db5cab94-5f93-462d-88f1-9ff5a55a7f1d",
   "metadata": {},
   "outputs": [
    {
     "data": {
      "text/plain": [
       "[1, 9, 25, 49]"
      ]
     },
     "execution_count": 32,
     "metadata": {},
     "output_type": "execute_result"
    }
   ],
   "source": [
    "[value**2 for value in range(9) if value % 2 != 0] # != filters out only the odd numbers"
   ]
  },
  {
   "cell_type": "markdown",
   "id": "a87157a2-7701-4a9a-9eef-2d36645d6f5e",
   "metadata": {},
   "source": [
    "## Exercise 3 (Time me!)"
   ]
  },
  {
   "cell_type": "code",
   "execution_count": 41,
   "id": "fe735798-c356-4c24-b7c0-2754125d34be",
   "metadata": {},
   "outputs": [
    {
     "name": "stdout",
     "output_type": "stream",
     "text": [
      "1.57 µs ± 21.3 ns per loop (mean ± std. dev. of 7 runs, 1,000,000 loops each)\n"
     ]
    }
   ],
   "source": [
    "%%timeit\n",
    "for number in range(9):\n",
    "    if number % 2 == 0:\n",
    "        continue\n",
    "    number = number**2"
   ]
  },
  {
   "cell_type": "code",
   "execution_count": 44,
   "id": "4a7da536-9ee0-4032-9168-384d59e67eb6",
   "metadata": {},
   "outputs": [
    {
     "name": "stdout",
     "output_type": "stream",
     "text": [
      "1.73 µs ± 21.3 ns per loop (mean ± std. dev. of 7 runs, 1,000,000 loops each)\n"
     ]
    }
   ],
   "source": [
    "%%timeit\n",
    "[value**2 for value in range(9) if value % 2 != 0]\n"
   ]
  },
  {
   "cell_type": "markdown",
   "id": "0d86e5d7-dda8-4b7a-89d1-a48e457b1e15",
   "metadata": {},
   "source": [
    "The first method, using for loop with range() and continue is faster."
   ]
  },
  {
   "cell_type": "code",
   "execution_count": 43,
   "id": "7cf05fee-4c52-415d-8bfd-53a5bb196466",
   "metadata": {},
   "outputs": [
    {
     "name": "stdout",
     "output_type": "stream",
     "text": [
      "1\n",
      "9\n",
      "25\n",
      "49\n"
     ]
    }
   ],
   "source": [
    "%timeit\n",
    "\n",
    "for number in range(9):\n",
    "    if number % 2 == 0:\n",
    "        continue\n",
    "    number = number**2\n",
    "    print(number)"
   ]
  },
  {
   "cell_type": "markdown",
   "id": "8c06d4f1-6e72-40bf-8492-831b194d05cc",
   "metadata": {},
   "source": [
    "## Exercise 4 (A problem of decay) "
   ]
  },
  {
   "cell_type": "code",
   "execution_count": 38,
   "id": "375f2b9e-8369-463e-bef4-30f38f22d14e",
   "metadata": {},
   "outputs": [
    {
     "name": "stdout",
     "output_type": "stream",
     "text": [
      "Year 0          100.00 units\n",
      "Year 1           95.00 units\n",
      "Year 2           90.25 units\n",
      "Year 3           85.74 units\n",
      "Year 4           81.45 units\n",
      "Year 5           77.38 units\n",
      "Year 6           73.51 units\n",
      "Year 7           69.83 units\n",
      "Year 8           66.34 units\n",
      "Year 9           63.02 units\n",
      "Year 10           59.87 units\n",
      "Year 11           56.88 units\n",
      "Year 12           54.04 units\n",
      "Year 13           51.33 units\n",
      "It will take 14 years for the sample to reduce to half its original amount.\n"
     ]
    }
   ],
   "source": [
    "number=100\n",
    "years=0\n",
    "\n",
    "while number:\n",
    "    print(f'Year {years} {number:>15.2f} units')\n",
    "    number *= 0.95\n",
    "    years += 1\n",
    "    if number < 50: break\n",
    "\n",
    "print(f'It will take {years} years for the sample to reduce to half its original amount.')"
   ]
  },
  {
   "cell_type": "markdown",
   "id": "15a89416-9d29-4c14-8fdc-3c85dc96b98c",
   "metadata": {},
   "source": [
    "## Exercise 5 (Changes in CO)"
   ]
  },
  {
   "cell_type": "code",
   "execution_count": 58,
   "id": "dee4bb2a-d5ea-485c-89b5-288f9d29f865",
   "metadata": {},
   "outputs": [
    {
     "ename": "NameError",
     "evalue": "name 'year' is not defined",
     "output_type": "error",
     "traceback": [
      "\u001b[1;31m---------------------------------------------------------------------------\u001b[0m",
      "\u001b[1;31mNameError\u001b[0m                                 Traceback (most recent call last)",
      "Cell \u001b[1;32mIn[58], line 9\u001b[0m\n\u001b[0;32m      1\u001b[0m co2_data \u001b[38;5;241m=\u001b[39m {\u001b[38;5;124m\"\u001b[39m\u001b[38;5;124m2000\u001b[39m\u001b[38;5;124m\"\u001b[39m: \u001b[38;5;124m\"\u001b[39m\u001b[38;5;124m369.55\u001b[39m\u001b[38;5;124m\"\u001b[39m, \u001b[38;5;124m\"\u001b[39m\u001b[38;5;124m2001\u001b[39m\u001b[38;5;124m\"\u001b[39m: \u001b[38;5;124m\"\u001b[39m\u001b[38;5;124m371.14\u001b[39m\u001b[38;5;124m\"\u001b[39m, \u001b[38;5;124m\"\u001b[39m\u001b[38;5;124m2002\u001b[39m\u001b[38;5;124m\"\u001b[39m: \u001b[38;5;124m\"\u001b[39m\u001b[38;5;124m373.28\u001b[39m\u001b[38;5;124m\"\u001b[39m, \n\u001b[0;32m      2\u001b[0m     \u001b[38;5;124m\"\u001b[39m\u001b[38;5;124m2003\u001b[39m\u001b[38;5;124m\"\u001b[39m: \u001b[38;5;124m\"\u001b[39m\u001b[38;5;124m375.80\u001b[39m\u001b[38;5;124m\"\u001b[39m, \u001b[38;5;124m\"\u001b[39m\u001b[38;5;124m2004\u001b[39m\u001b[38;5;124m\"\u001b[39m: \u001b[38;5;124m\"\u001b[39m\u001b[38;5;124m377.52\u001b[39m\u001b[38;5;124m\"\u001b[39m, \u001b[38;5;124m\"\u001b[39m\u001b[38;5;124m2005\u001b[39m\u001b[38;5;124m\"\u001b[39m: \u001b[38;5;124m\"\u001b[39m\u001b[38;5;124m379.80\u001b[39m\u001b[38;5;124m\"\u001b[39m, \n\u001b[0;32m      3\u001b[0m     \u001b[38;5;124m\"\u001b[39m\u001b[38;5;124m2006\u001b[39m\u001b[38;5;124m\"\u001b[39m: \u001b[38;5;124m\"\u001b[39m\u001b[38;5;124m381.90\u001b[39m\u001b[38;5;124m\"\u001b[39m, \u001b[38;5;124m\"\u001b[39m\u001b[38;5;124m2007\u001b[39m\u001b[38;5;124m\"\u001b[39m: \u001b[38;5;124m\"\u001b[39m\u001b[38;5;124m383.79\u001b[39m\u001b[38;5;124m\"\u001b[39m, \u001b[38;5;124m\"\u001b[39m\u001b[38;5;124m2008\u001b[39m\u001b[38;5;124m\"\u001b[39m: \u001b[38;5;124m\"\u001b[39m\u001b[38;5;124m385.60\u001b[39m\u001b[38;5;124m\"\u001b[39m, \n\u001b[1;32m   (...)\u001b[0m\n\u001b[0;32m      6\u001b[0m     \u001b[38;5;124m\"\u001b[39m\u001b[38;5;124m2015\u001b[39m\u001b[38;5;124m\"\u001b[39m: \u001b[38;5;124m\"\u001b[39m\u001b[38;5;124m400.83\u001b[39m\u001b[38;5;124m\"\u001b[39m, \u001b[38;5;124m\"\u001b[39m\u001b[38;5;124m2016\u001b[39m\u001b[38;5;124m\"\u001b[39m: \u001b[38;5;124m\"\u001b[39m\u001b[38;5;124m404.24\u001b[39m\u001b[38;5;124m\"\u001b[39m, \u001b[38;5;124m\"\u001b[39m\u001b[38;5;124m2017\u001b[39m\u001b[38;5;124m\"\u001b[39m: \u001b[38;5;124m\"\u001b[39m\u001b[38;5;124m406.55\u001b[39m\u001b[38;5;124m\"\u001b[39m, \n\u001b[0;32m      7\u001b[0m     \u001b[38;5;124m\"\u001b[39m\u001b[38;5;124m2018\u001b[39m\u001b[38;5;124m\"\u001b[39m: \u001b[38;5;124m\"\u001b[39m\u001b[38;5;124m408.52\u001b[39m\u001b[38;5;124m\"\u001b[39m, \u001b[38;5;124m\"\u001b[39m\u001b[38;5;124m2019\u001b[39m\u001b[38;5;124m\"\u001b[39m: \u001b[38;5;124m\"\u001b[39m\u001b[38;5;124m411.44\u001b[39m\u001b[38;5;124m\"\u001b[39m, \u001b[38;5;124m\"\u001b[39m\u001b[38;5;124m2020\u001b[39m\u001b[38;5;124m\"\u001b[39m: \u001b[38;5;124m\"\u001b[39m\u001b[38;5;124m414.24\u001b[39m\u001b[38;5;124m\"\u001b[39m}\n\u001b[1;32m----> 9\u001b[0m \u001b[38;5;28mprint\u001b[39m(co2_data[\u001b[43myear\u001b[49m: co2_level])\n\u001b[0;32m     11\u001b[0m \u001b[38;5;28;01mfor\u001b[39;00m year, co2_level \u001b[38;5;129;01min\u001b[39;00m co2_data\u001b[38;5;241m.\u001b[39mitems():\n\u001b[0;32m     12\u001b[0m     \u001b[38;5;28mprint\u001b[39m(\u001b[38;5;124mf\u001b[39m\u001b[38;5;124m'\u001b[39m\u001b[38;5;132;01m{\u001b[39;00myears\u001b[38;5;132;01m}\u001b[39;00m\u001b[38;5;124m \u001b[39m\u001b[38;5;132;01m{\u001b[39;00mconcentration\u001b[38;5;132;01m:\u001b[39;00m\u001b[38;5;124m>15\u001b[39m\u001b[38;5;132;01m}\u001b[39;00m\u001b[38;5;124m ppm\u001b[39m\u001b[38;5;124m'\u001b[39m)\n",
      "\u001b[1;31mNameError\u001b[0m: name 'year' is not defined"
     ]
    }
   ],
   "source": [
    "co2_data = {\"2000\": \"369.55\", \"2001\": \"371.14\", \"2002\": \"373.28\", \n",
    "    \"2003\": \"375.80\", \"2004\": \"377.52\", \"2005\": \"379.80\", \n",
    "    \"2006\": \"381.90\", \"2007\": \"383.79\", \"2008\": \"385.60\", \n",
    "    \"2009\": \"387.43\", \"2010\": \"389.90\", \"2011\": \"391.65\", \n",
    "    \"2012\": \"393.85\", \"2013\": \"396.52\", \"2014\": \"398.65\",\n",
    "    \"2015\": \"400.83\", \"2016\": \"404.24\", \"2017\": \"406.55\", \n",
    "    \"2018\": \"408.52\", \"2019\": \"411.44\", \"2020\": \"414.24\"}\n",
    "\n",
    "print(co2_data[year: co2_level])\n",
    "\n",
    "for year, co2_level in co2_data.items():\n",
    "    print(f'{years} {concentration:>15} ppm')"
   ]
  },
  {
   "cell_type": "code",
   "execution_count": 65,
   "id": "aa879050-505c-4812-b552-420b0bb108a8",
   "metadata": {},
   "outputs": [
    {
     "name": "stdout",
     "output_type": "stream",
     "text": [
      "[0, 0, 0, 0, 0, 0, 0, 0, 0, 0, 0, 0, 0, 0, 0, 0, 0, 0, 0, 0, 0]\n",
      "[2000, 0, 0, 0, 0, 0, 0, 0, 0, 0, 0, 0, 0, 0, 0, 0, 0, 0, 0, 0, 0]\n",
      "[2000, 2001, 0, 0, 0, 0, 0, 0, 0, 0, 0, 0, 0, 0, 0, 0, 0, 0, 0, 0, 0]\n",
      "[2000, 2001, 2002, 0, 0, 0, 0, 0, 0, 0, 0, 0, 0, 0, 0, 0, 0, 0, 0, 0, 0]\n",
      "[2000, 2001, 2002, 2003, 0, 0, 0, 0, 0, 0, 0, 0, 0, 0, 0, 0, 0, 0, 0, 0, 0]\n",
      "[2000, 2001, 2002, 2003, 2004, 0, 0, 0, 0, 0, 0, 0, 0, 0, 0, 0, 0, 0, 0, 0, 0]\n",
      "[2000, 2001, 2002, 2003, 2004, 2005, 0, 0, 0, 0, 0, 0, 0, 0, 0, 0, 0, 0, 0, 0, 0]\n",
      "[2000, 2001, 2002, 2003, 2004, 2005, 2006, 0, 0, 0, 0, 0, 0, 0, 0, 0, 0, 0, 0, 0, 0]\n",
      "[2000, 2001, 2002, 2003, 2004, 2005, 2006, 2007, 0, 0, 0, 0, 0, 0, 0, 0, 0, 0, 0, 0, 0]\n",
      "[2000, 2001, 2002, 2003, 2004, 2005, 2006, 2007, 2008, 0, 0, 0, 0, 0, 0, 0, 0, 0, 0, 0, 0]\n",
      "[2000, 2001, 2002, 2003, 2004, 2005, 2006, 2007, 2008, 2009, 0, 0, 0, 0, 0, 0, 0, 0, 0, 0, 0]\n",
      "[2000, 2001, 2002, 2003, 2004, 2005, 2006, 2007, 2008, 2009, 2010, 0, 0, 0, 0, 0, 0, 0, 0, 0, 0]\n",
      "[2000, 2001, 2002, 2003, 2004, 2005, 2006, 2007, 2008, 2009, 2010, 2011, 0, 0, 0, 0, 0, 0, 0, 0, 0]\n",
      "[2000, 2001, 2002, 2003, 2004, 2005, 2006, 2007, 2008, 2009, 2010, 2011, 2012, 0, 0, 0, 0, 0, 0, 0, 0]\n",
      "[2000, 2001, 2002, 2003, 2004, 2005, 2006, 2007, 2008, 2009, 2010, 2011, 2012, 2013, 0, 0, 0, 0, 0, 0, 0]\n",
      "[2000, 2001, 2002, 2003, 2004, 2005, 2006, 2007, 2008, 2009, 2010, 2011, 2012, 2013, 2014, 0, 0, 0, 0, 0, 0]\n",
      "[2000, 2001, 2002, 2003, 2004, 2005, 2006, 2007, 2008, 2009, 2010, 2011, 2012, 2013, 2014, 2015, 0, 0, 0, 0, 0]\n",
      "[2000, 2001, 2002, 2003, 2004, 2005, 2006, 2007, 2008, 2009, 2010, 2011, 2012, 2013, 2014, 2015, 2016, 0, 0, 0, 0]\n",
      "[2000, 2001, 2002, 2003, 2004, 2005, 2006, 2007, 2008, 2009, 2010, 2011, 2012, 2013, 2014, 2015, 2016, 2017, 0, 0, 0]\n",
      "[2000, 2001, 2002, 2003, 2004, 2005, 2006, 2007, 2008, 2009, 2010, 2011, 2012, 2013, 2014, 2015, 2016, 2017, 2018, 0, 0]\n",
      "[2000, 2001, 2002, 2003, 2004, 2005, 2006, 2007, 2008, 2009, 2010, 2011, 2012, 2013, 2014, 2015, 2016, 2017, 2018, 2019, 0]\n",
      "[2000, 2001, 2002, 2003, 2004, 2005, 2006, 2007, 2008, 2009, 2010, 2011, 2012, 2013, 2014, 2015, 2016, 2017, 2018, 2019, 2020]\n"
     ]
    }
   ],
   "source": [
    "N = 21 #define range is N\n",
    "year = 2000 #define data for years\n",
    "ar = [0]*N #make a 1D array of 21 elements\n",
    "print(ar)\n",
    "for i in range(N): #create a loop to assign value to each element i in the array\n",
    "    ar[i] = year\n",
    "    year+= 1 #increment of 1 starting from year = 2000\n",
    "    print(ar)\n",
    "\n",
    "#ar[4]= year\n",
    "#print(ar)\n",
    "#while(ar[]) \n",
    "\n",
    "py_list_2d = [[2000, 369.55], [2001, 371.14], [2002, 373.28], [2003, 375.8], [2004, 377.52],\n",
    "              [2005, 379.8], [2006, 381.9], [2007, 383.79], [2008, 385.6], [2009, 385.9]]\n",
    "              \n",
    "np_array_2d = np.array(py_list_2d)\n"
   ]
  },
  {
   "cell_type": "code",
   "execution_count": 116,
   "id": "4955a8b2-2319-4829-82d2-3c0ae3a4dff4",
   "metadata": {},
   "outputs": [
    {
     "name": "stdout",
     "output_type": "stream",
     "text": [
      "2016.0 404.24 3.410000000000025\n"
     ]
    }
   ],
   "source": [
    "py_list_2d = [[2000, 369.55], [2001, 371.14], [2002, 373.28], [2003, 375.8], [2004, 377.52],\n",
    "              [2005, 379.8], [2006, 381.9], [2007, 383.79], [2008, 385.6], [2009, 387.43],\n",
    "              [2010, 389.9], [2011, 391.65], [2012, 393.85], [2013, 396.52], [2014, 398.65],\n",
    "              [2015, 400.83], [2016, 404.24], [2017, 406.55], [2018, 408.52], [2019, 411.44],\n",
    "              [2020, 414.24]]\n",
    "\n",
    "import numpy as np\n",
    "\n",
    "N = 20 #N is number of iterations (difference of concentration x20)\n",
    "\n",
    "np_array_2d = np.array(py_list_2d) #define array\n",
    "\n",
    "for i in range(N): #create a loop to assign value to each element i in the array\n",
    "    diff = np_array_2d[i+1,1] - np_array_2d[i,1] #i indicates the respective concentration values in the array\n",
    "    if(diff>3):\n",
    "        print(np_array_2d[i+1,0],np_array_2d[i+1,1],diff)"
   ]
  },
  {
   "cell_type": "code",
   "execution_count": 84,
   "id": "33c69609-204b-414f-b8f5-6865824a1cfe",
   "metadata": {},
   "outputs": [],
   "source": [
    "co2_data = [\n",
    "    (2000, 369.55), (2001, 371.14), (2002, 373.28), \n",
    "    (2003, 375.80), (2004, 377.52), (2005, 379.80), \n",
    "    (2006, 381.90), (2007, 383.79), (2008, 385.60), \n",
    "    (2009, 387.43), (2010, 389.90), (2011, 391.65), \n",
    "    (2012, 393.85), (2013, 396.52), (2014, 398.65),\n",
    "    (2015, 400.83), (2016, 404.24), (2017, 406.55), \n",
    "    (2018, 408.52), (2019, 411.44), (2020, 414.24)\n",
    "]\n",
    "\n",
    "for years, concentration in enumerate(co2_data):\n",
    "    concentration = concentration"
   ]
  },
  {
   "cell_type": "code",
   "execution_count": null,
   "id": "fde0478a-98ef-4193-b8cd-623beaf02b40",
   "metadata": {},
   "outputs": [],
   "source": []
  }
 ],
 "metadata": {
  "kernelspec": {
   "display_name": "Python 3 (ipykernel)",
   "language": "python",
   "name": "python3"
  },
  "language_info": {
   "codemirror_mode": {
    "name": "ipython",
    "version": 3
   },
   "file_extension": ".py",
   "mimetype": "text/x-python",
   "name": "python",
   "nbconvert_exporter": "python",
   "pygments_lexer": "ipython3",
   "version": "3.9.19"
  },
  "toc": {
   "base_numbering": 1,
   "nav_menu": {},
   "number_sections": true,
   "sideBar": true,
   "skip_h1_title": false,
   "title_cell": "Table of Contents",
   "title_sidebar": "Contents",
   "toc_cell": false,
   "toc_position": {},
   "toc_section_display": true,
   "toc_window_display": false
  },
  "vscode": {
   "interpreter": {
    "hash": "31f2aee4e71d21fbe5cf8b01ff0e069b9275f58929596ceb00d14d90e3e16cd6"
   }
  }
 },
 "nbformat": 4,
 "nbformat_minor": 5
}
