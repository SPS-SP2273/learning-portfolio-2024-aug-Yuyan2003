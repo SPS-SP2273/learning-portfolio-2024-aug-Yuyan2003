{
 "cells": [
  {
   "attachments": {},
   "cell_type": "markdown",
   "id": "123456",
   "metadata": {},
   "source": [
    "<div style=\"text-align:left;font-size:2em\"><span style=\"font-weight:bolder;font-size:1.25em\">SP2273 | Learning Portfolio</span><br><br><span style=\"font-weight:bold;color:darkred\">Functions (Need) Exercises</span></div>"
   ]
  },
  {
   "cell_type": "markdown",
   "id": "9e377e47-f40d-4104-85cd-e14f78285d5b",
   "metadata": {},
   "source": [
    "## Exercise 1 (Do you know why?)"
   ]
  },
  {
   "cell_type": "code",
   "execution_count": 1,
   "id": "0e16d461-c8a6-4cde-828a-a0698f2d9b5b",
   "metadata": {},
   "outputs": [
    {
     "name": "stdout",
     "output_type": "stream",
     "text": [
      "Hello Batman! So, nice to meet you!\n"
     ]
    },
    {
     "data": {
      "text/plain": [
       "'Hello Spiderman!'"
      ]
     },
     "execution_count": 1,
     "metadata": {},
     "output_type": "execute_result"
    }
   ],
   "source": [
    "def greeting(name):\n",
    "    if name == 'Batman':\n",
    "        return 'Hello Batman! So, nice to meet you!'\n",
    "    return f'Hello {name}!'\n",
    "\n",
    "print(greeting(\"Batman\"))\n",
    "greeting(\"Spiderman\")"
   ]
  },
  {
   "cell_type": "markdown",
   "id": "ed2046c7-50d0-4b83-ab6f-03ff7e098654",
   "metadata": {},
   "source": [
    "Explain why the code works as expected despite not having an else statement. <br> <br>\n",
    "When Python sees a return keyword it jumps out of the function with the specified string, in this case \"name\". In the first code block, there is an \"if\" function, and return statement. If the condition is True (ie. name is Batman), then the immediate return function is executed. If the condition is False (ie. name is NOT Batman), then the next return statement outside of the code block is executed instead. <br>\n",
    "In summary, the second return statement will only be reached if the if condition is not satisfied, behaving like an else block."
   ]
  },
  {
   "cell_type": "markdown",
   "id": "7a3d6e32-5676-4056-bfc8-c976f5eb301e",
   "metadata": {},
   "source": [
    "## Exercise 2 (Chubby or not)"
   ]
  },
  {
   "cell_type": "code",
   "execution_count": 2,
   "id": "3a81a096-b4a9-4fc2-87ae-6bb2a530e41d",
   "metadata": {},
   "outputs": [
    {
     "name": "stdout",
     "output_type": "stream",
     "text": [
      "The BMI category for height of 50kg and weight of 1.58m is Normal weight.\n"
     ]
    }
   ],
   "source": [
    "def calculate_bmi(weight, height):\n",
    "    BMI = weight / (height ** 2)\n",
    "    if BMI < 18.5:\n",
    "        return 'Underweight'\n",
    "    elif 18.5 < BMI < 24.9:\n",
    "        return 'Normal weight'\n",
    "    elif 25 < BMI < 29.9:\n",
    "        return 'Overweight'\n",
    "    else:\n",
    "        return 'Obese'\n",
    "\n",
    "height = 50\n",
    "weight = 1.58\n",
    "bmi = calculate_bmi(height, weight)\n",
    "print(f'The BMI category for height of {height}kg and weight of {weight}m is {bmi}.')"
   ]
  },
  {
   "cell_type": "markdown",
   "id": "c42c44ed-9dbe-41f9-9ba9-b4c3e617ea8c",
   "metadata": {},
   "source": [
    "## Exercise 3 (Factorials)"
   ]
  },
  {
   "cell_type": "code",
   "execution_count": 3,
   "id": "3429e93b-9915-495e-a94b-21c397d2c605",
   "metadata": {},
   "outputs": [
    {
     "data": {
      "text/plain": [
       "720"
      ]
     },
     "execution_count": 3,
     "metadata": {},
     "output_type": "execute_result"
    }
   ],
   "source": [
    "def factorial(n):\n",
    "    if n < 0:\n",
    "        print(\"error: please input n as positive integer\")\n",
    "\n",
    "    if n == 0:\n",
    "        return 1\n",
    "\n",
    "    if n > 0:\n",
    "        y = 1 #y must be 1. if y=0, the output will always be 0.\n",
    "        while n > 0:\n",
    "            y *= n #use y multiply by n, otherwise the value of n will keep changing and the loop will continue forever.\n",
    "            n -= 1\n",
    "        return y\n",
    "\n",
    "factorial(6)"
   ]
  },
  {
   "cell_type": "code",
   "execution_count": 1,
   "id": "f08eb2ff-ed4b-45e8-8525-a6f1feee5fa7",
   "metadata": {},
   "outputs": [
    {
     "data": {
      "text/plain": [
       "120"
      ]
     },
     "execution_count": 1,
     "metadata": {},
     "output_type": "execute_result"
    }
   ],
   "source": [
    "import numpy as np\n",
    "\n",
    "np.prod([1, 2, 3, 4, 5]) #input list into the brackets. this function will multiply all elements of the list together.\n",
    "np.prod(range(1,6)) #range starts from zero. skip zero and end with 5 at index 6"
   ]
  }
 ],
 "metadata": {
  "kernelspec": {
   "display_name": "Python 3 (ipykernel)",
   "language": "python",
   "name": "python3"
  },
  "language_info": {
   "codemirror_mode": {
    "name": "ipython",
    "version": 3
   },
   "file_extension": ".py",
   "mimetype": "text/x-python",
   "name": "python",
   "nbconvert_exporter": "python",
   "pygments_lexer": "ipython3",
   "version": "3.9.19"
  },
  "toc": {
   "base_numbering": 1,
   "nav_menu": {},
   "number_sections": true,
   "sideBar": true,
   "skip_h1_title": false,
   "title_cell": "Table of Contents",
   "title_sidebar": "Contents",
   "toc_cell": false,
   "toc_position": {},
   "toc_section_display": true,
   "toc_window_display": false
  },
  "vscode": {
   "interpreter": {
    "hash": "31f2aee4e71d21fbe5cf8b01ff0e069b9275f58929596ceb00d14d90e3e16cd6"
   }
  }
 },
 "nbformat": 4,
 "nbformat_minor": 5
}
